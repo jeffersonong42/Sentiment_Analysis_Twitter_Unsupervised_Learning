{
 "cells": [
  {
   "cell_type": "markdown",
   "metadata": {
    "id": "B-BHryu-jTrJ"
   },
   "source": [
    "\n",
    "# **Scraping Data Twitter**"
   ]
  },
  {
   "cell_type": "code",
   "execution_count": null,
   "metadata": {
    "colab": {
     "base_uri": "https://localhost:8080/"
    },
    "id": "IEPNMWZ0iytb",
    "outputId": "e7e174ec-b541-440a-8472-0dd698e158c9"
   },
   "outputs": [
    {
     "name": "stdout",
     "output_type": "stream",
     "text": [
      "Requirement already satisfied: snscrape in /usr/local/lib/python3.7/dist-packages (0.3.4)\n",
      "Requirement already satisfied: requests[socks] in /usr/local/lib/python3.7/dist-packages (from snscrape) (2.23.0)\n",
      "Requirement already satisfied: beautifulsoup4 in /usr/local/lib/python3.7/dist-packages (from snscrape) (4.6.3)\n",
      "Requirement already satisfied: lxml in /usr/local/lib/python3.7/dist-packages (from snscrape) (4.2.6)\n",
      "Requirement already satisfied: urllib3!=1.25.0,!=1.25.1,<1.26,>=1.21.1 in /usr/local/lib/python3.7/dist-packages (from requests[socks]->snscrape) (1.24.3)\n",
      "Requirement already satisfied: chardet<4,>=3.0.2 in /usr/local/lib/python3.7/dist-packages (from requests[socks]->snscrape) (3.0.4)\n",
      "Requirement already satisfied: certifi>=2017.4.17 in /usr/local/lib/python3.7/dist-packages (from requests[socks]->snscrape) (2021.5.30)\n",
      "Requirement already satisfied: idna<3,>=2.5 in /usr/local/lib/python3.7/dist-packages (from requests[socks]->snscrape) (2.10)\n",
      "Requirement already satisfied: PySocks!=1.5.7,>=1.5.6; extra == \"socks\" in /usr/local/lib/python3.7/dist-packages (from requests[socks]->snscrape) (1.7.1)\n"
     ]
    }
   ],
   "source": [
    "#import all libraries that we need :\n",
    "\n",
    "#library for DataFrame\n",
    "import pandas as pd\n",
    "\n",
    "#Install snscrape modules & import itertools\n",
    "!pip install snscrape\n",
    "import snscrape.modules.twitter as sntwitter\n",
    "import itertools\n",
    "\n",
    "#libary for export dataset to csv file\n",
    "import csv"
   ]
  },
  {
   "cell_type": "code",
   "execution_count": null,
   "metadata": {
    "colab": {
     "base_uri": "https://localhost:8080/",
     "height": 419
    },
    "id": "FweluAednLkL",
    "outputId": "81c35857-6f81-40a7-ba27-032280006edb"
   },
   "outputs": [
    {
     "data": {
      "text/html": [
       "<div>\n",
       "<style scoped>\n",
       "    .dataframe tbody tr th:only-of-type {\n",
       "        vertical-align: middle;\n",
       "    }\n",
       "\n",
       "    .dataframe tbody tr th {\n",
       "        vertical-align: top;\n",
       "    }\n",
       "\n",
       "    .dataframe thead th {\n",
       "        text-align: right;\n",
       "    }\n",
       "</style>\n",
       "<table border=\"1\" class=\"dataframe\">\n",
       "  <thead>\n",
       "    <tr style=\"text-align: right;\">\n",
       "      <th></th>\n",
       "      <th>content</th>\n",
       "    </tr>\n",
       "  </thead>\n",
       "  <tbody>\n",
       "    <tr>\n",
       "      <th>0</th>\n",
       "      <td>@ChomZdelaRoCa Mantap, pak Jokowi mundurlah de...</td>\n",
       "    </tr>\n",
       "    <tr>\n",
       "      <th>1</th>\n",
       "      <td>Jokowi: Universitas Tidak Perlu Menghalangi Ma...</td>\n",
       "    </tr>\n",
       "    <tr>\n",
       "      <th>2</th>\n",
       "      <td>@logic_editor Jokowi Pemimpin Asia\\nJokowi Pel...</td>\n",
       "    </tr>\n",
       "    <tr>\n",
       "      <th>3</th>\n",
       "      <td>@Mugundi @VIVAcoid @bemkmipb mahasiswa jaman j...</td>\n",
       "    </tr>\n",
       "    <tr>\n",
       "      <th>4</th>\n",
       "      <td>@tunggul_edward @dzulfian @jokowi 🤣🤣🤣</td>\n",
       "    </tr>\n",
       "    <tr>\n",
       "      <th>...</th>\n",
       "      <td>...</td>\n",
       "    </tr>\n",
       "    <tr>\n",
       "      <th>95</th>\n",
       "      <td>@metimecoffee @KontraS @MCAOps @KPK_RI @jokowi...</td>\n",
       "    </tr>\n",
       "    <tr>\n",
       "      <th>96</th>\n",
       "      <td>JOKOWI JAWAB BEM UI:\\n\\n\"Ya, Itukan sudah seja...</td>\n",
       "    </tr>\n",
       "    <tr>\n",
       "      <th>97</th>\n",
       "      <td>@mulanbilqis @agussusilo7562 @RamliRizal Makan...</td>\n",
       "    </tr>\n",
       "    <tr>\n",
       "      <th>98</th>\n",
       "      <td>@kurawa @KemenegBUMN @jokowi iki piye Pak? @er...</td>\n",
       "    </tr>\n",
       "    <tr>\n",
       "      <th>99</th>\n",
       "      <td>@robert868686 @OssyDermawan @ProfYLH @SBYudhoy...</td>\n",
       "    </tr>\n",
       "  </tbody>\n",
       "</table>\n",
       "<p>100 rows × 1 columns</p>\n",
       "</div>"
      ],
      "text/plain": [
       "                                              content\n",
       "0   @ChomZdelaRoCa Mantap, pak Jokowi mundurlah de...\n",
       "1   Jokowi: Universitas Tidak Perlu Menghalangi Ma...\n",
       "2   @logic_editor Jokowi Pemimpin Asia\\nJokowi Pel...\n",
       "3   @Mugundi @VIVAcoid @bemkmipb mahasiswa jaman j...\n",
       "4               @tunggul_edward @dzulfian @jokowi 🤣🤣🤣\n",
       "..                                                ...\n",
       "95  @metimecoffee @KontraS @MCAOps @KPK_RI @jokowi...\n",
       "96  JOKOWI JAWAB BEM UI:\\n\\n\"Ya, Itukan sudah seja...\n",
       "97  @mulanbilqis @agussusilo7562 @RamliRizal Makan...\n",
       "98  @kurawa @KemenegBUMN @jokowi iki piye Pak? @er...\n",
       "99  @robert868686 @OssyDermawan @ProfYLH @SBYudhoy...\n",
       "\n",
       "[100 rows x 1 columns]"
      ]
     },
     "execution_count": 39,
     "metadata": {
      "tags": []
     },
     "output_type": "execute_result"
    }
   ],
   "source": [
    "#scraping data with keyword vaksin\n",
    "df = pd.DataFrame(itertools.islice(sntwitter.TwitterSearchScraper('jokowi').get_items(), 100))[['content']]\n",
    "df"
   ]
  },
  {
   "cell_type": "markdown",
   "metadata": {
    "id": "IYzU6FnNztyZ"
   },
   "source": [
    "## **Exploratory Data Analysis (EDA)**"
   ]
  },
  {
   "cell_type": "code",
   "execution_count": null,
   "metadata": {
    "colab": {
     "base_uri": "https://localhost:8080/",
     "height": 204
    },
    "id": "WiPCkuQ5zk0H",
    "outputId": "ea2a59f4-06f5-44aa-fe96-a624a8720811"
   },
   "outputs": [
    {
     "data": {
      "text/html": [
       "<div>\n",
       "<style scoped>\n",
       "    .dataframe tbody tr th:only-of-type {\n",
       "        vertical-align: middle;\n",
       "    }\n",
       "\n",
       "    .dataframe tbody tr th {\n",
       "        vertical-align: top;\n",
       "    }\n",
       "\n",
       "    .dataframe thead th {\n",
       "        text-align: right;\n",
       "    }\n",
       "</style>\n",
       "<table border=\"1\" class=\"dataframe\">\n",
       "  <thead>\n",
       "    <tr style=\"text-align: right;\">\n",
       "      <th></th>\n",
       "      <th>content</th>\n",
       "    </tr>\n",
       "  </thead>\n",
       "  <tbody>\n",
       "    <tr>\n",
       "      <th>0</th>\n",
       "      <td>@ChomZdelaRoCa Mantap, pak Jokowi mundurlah de...</td>\n",
       "    </tr>\n",
       "    <tr>\n",
       "      <th>1</th>\n",
       "      <td>Jokowi: Universitas Tidak Perlu Menghalangi Ma...</td>\n",
       "    </tr>\n",
       "    <tr>\n",
       "      <th>2</th>\n",
       "      <td>@logic_editor Jokowi Pemimpin Asia\\nJokowi Pel...</td>\n",
       "    </tr>\n",
       "    <tr>\n",
       "      <th>3</th>\n",
       "      <td>@Mugundi @VIVAcoid @bemkmipb mahasiswa jaman j...</td>\n",
       "    </tr>\n",
       "    <tr>\n",
       "      <th>4</th>\n",
       "      <td>@tunggul_edward @dzulfian @jokowi 🤣🤣🤣</td>\n",
       "    </tr>\n",
       "  </tbody>\n",
       "</table>\n",
       "</div>"
      ],
      "text/plain": [
       "                                             content\n",
       "0  @ChomZdelaRoCa Mantap, pak Jokowi mundurlah de...\n",
       "1  Jokowi: Universitas Tidak Perlu Menghalangi Ma...\n",
       "2  @logic_editor Jokowi Pemimpin Asia\\nJokowi Pel...\n",
       "3  @Mugundi @VIVAcoid @bemkmipb mahasiswa jaman j...\n",
       "4              @tunggul_edward @dzulfian @jokowi 🤣🤣🤣"
      ]
     },
     "execution_count": 40,
     "metadata": {
      "tags": []
     },
     "output_type": "execute_result"
    }
   ],
   "source": [
    "df.head()"
   ]
  },
  {
   "cell_type": "code",
   "execution_count": null,
   "metadata": {
    "colab": {
     "base_uri": "https://localhost:8080/",
     "height": 204
    },
    "id": "1XHji0Bw0BaF",
    "outputId": "2abc0bc7-2e6f-43d9-cf1e-a59adf6ccf1f"
   },
   "outputs": [
    {
     "data": {
      "text/html": [
       "<div>\n",
       "<style scoped>\n",
       "    .dataframe tbody tr th:only-of-type {\n",
       "        vertical-align: middle;\n",
       "    }\n",
       "\n",
       "    .dataframe tbody tr th {\n",
       "        vertical-align: top;\n",
       "    }\n",
       "\n",
       "    .dataframe thead th {\n",
       "        text-align: right;\n",
       "    }\n",
       "</style>\n",
       "<table border=\"1\" class=\"dataframe\">\n",
       "  <thead>\n",
       "    <tr style=\"text-align: right;\">\n",
       "      <th></th>\n",
       "      <th>content</th>\n",
       "    </tr>\n",
       "  </thead>\n",
       "  <tbody>\n",
       "    <tr>\n",
       "      <th>95</th>\n",
       "      <td>@metimecoffee @KontraS @MCAOps @KPK_RI @jokowi...</td>\n",
       "    </tr>\n",
       "    <tr>\n",
       "      <th>96</th>\n",
       "      <td>JOKOWI JAWAB BEM UI:\\n\\n\"Ya, Itukan sudah seja...</td>\n",
       "    </tr>\n",
       "    <tr>\n",
       "      <th>97</th>\n",
       "      <td>@mulanbilqis @agussusilo7562 @RamliRizal Makan...</td>\n",
       "    </tr>\n",
       "    <tr>\n",
       "      <th>98</th>\n",
       "      <td>@kurawa @KemenegBUMN @jokowi iki piye Pak? @er...</td>\n",
       "    </tr>\n",
       "    <tr>\n",
       "      <th>99</th>\n",
       "      <td>@robert868686 @OssyDermawan @ProfYLH @SBYudhoy...</td>\n",
       "    </tr>\n",
       "  </tbody>\n",
       "</table>\n",
       "</div>"
      ],
      "text/plain": [
       "                                              content\n",
       "95  @metimecoffee @KontraS @MCAOps @KPK_RI @jokowi...\n",
       "96  JOKOWI JAWAB BEM UI:\\n\\n\"Ya, Itukan sudah seja...\n",
       "97  @mulanbilqis @agussusilo7562 @RamliRizal Makan...\n",
       "98  @kurawa @KemenegBUMN @jokowi iki piye Pak? @er...\n",
       "99  @robert868686 @OssyDermawan @ProfYLH @SBYudhoy..."
      ]
     },
     "execution_count": 41,
     "metadata": {
      "tags": []
     },
     "output_type": "execute_result"
    }
   ],
   "source": [
    "df.tail()"
   ]
  },
  {
   "cell_type": "code",
   "execution_count": null,
   "metadata": {
    "colab": {
     "base_uri": "https://localhost:8080/"
    },
    "id": "BXg1jWj_0FY7",
    "outputId": "46ac988f-ad7b-467d-e52f-a0f4135856da"
   },
   "outputs": [
    {
     "name": "stdout",
     "output_type": "stream",
     "text": [
      "<class 'pandas.core.frame.DataFrame'>\n",
      "RangeIndex: 100 entries, 0 to 99\n",
      "Data columns (total 1 columns):\n",
      " #   Column   Non-Null Count  Dtype \n",
      "---  ------   --------------  ----- \n",
      " 0   content  100 non-null    object\n",
      "dtypes: object(1)\n",
      "memory usage: 928.0+ bytes\n"
     ]
    }
   ],
   "source": [
    "df.info()"
   ]
  },
  {
   "cell_type": "code",
   "execution_count": null,
   "metadata": {
    "colab": {
     "base_uri": "https://localhost:8080/",
     "height": 173
    },
    "id": "I3akzUWD0JZ9",
    "outputId": "e531c90f-d04f-4095-a5b0-dd765267a51a"
   },
   "outputs": [
    {
     "data": {
      "text/html": [
       "<div>\n",
       "<style scoped>\n",
       "    .dataframe tbody tr th:only-of-type {\n",
       "        vertical-align: middle;\n",
       "    }\n",
       "\n",
       "    .dataframe tbody tr th {\n",
       "        vertical-align: top;\n",
       "    }\n",
       "\n",
       "    .dataframe thead th {\n",
       "        text-align: right;\n",
       "    }\n",
       "</style>\n",
       "<table border=\"1\" class=\"dataframe\">\n",
       "  <thead>\n",
       "    <tr style=\"text-align: right;\">\n",
       "      <th></th>\n",
       "      <th>content</th>\n",
       "    </tr>\n",
       "  </thead>\n",
       "  <tbody>\n",
       "    <tr>\n",
       "      <th>count</th>\n",
       "      <td>100</td>\n",
       "    </tr>\n",
       "    <tr>\n",
       "      <th>unique</th>\n",
       "      <td>100</td>\n",
       "    </tr>\n",
       "    <tr>\n",
       "      <th>top</th>\n",
       "      <td>BEM UI Disoal Gegara 'Gelar' Jokowi, BEM UNS: ...</td>\n",
       "    </tr>\n",
       "    <tr>\n",
       "      <th>freq</th>\n",
       "      <td>1</td>\n",
       "    </tr>\n",
       "  </tbody>\n",
       "</table>\n",
       "</div>"
      ],
      "text/plain": [
       "                                                  content\n",
       "count                                                 100\n",
       "unique                                                100\n",
       "top     BEM UI Disoal Gegara 'Gelar' Jokowi, BEM UNS: ...\n",
       "freq                                                    1"
      ]
     },
     "execution_count": 43,
     "metadata": {
      "tags": []
     },
     "output_type": "execute_result"
    }
   ],
   "source": [
    "df.describe()"
   ]
  },
  {
   "cell_type": "code",
   "execution_count": null,
   "metadata": {
    "colab": {
     "base_uri": "https://localhost:8080/",
     "height": 669
    },
    "id": "Kjpm-isz0Nbj",
    "outputId": "42cdaff6-7615-483c-b5e7-3ca5e2ba5092"
   },
   "outputs": [
    {
     "data": {
      "text/html": [
       "<div>\n",
       "<style scoped>\n",
       "    .dataframe tbody tr th:only-of-type {\n",
       "        vertical-align: middle;\n",
       "    }\n",
       "\n",
       "    .dataframe tbody tr th {\n",
       "        vertical-align: top;\n",
       "    }\n",
       "\n",
       "    .dataframe thead th {\n",
       "        text-align: right;\n",
       "    }\n",
       "</style>\n",
       "<table border=\"1\" class=\"dataframe\">\n",
       "  <thead>\n",
       "    <tr style=\"text-align: right;\">\n",
       "      <th></th>\n",
       "      <th>content</th>\n",
       "    </tr>\n",
       "  </thead>\n",
       "  <tbody>\n",
       "    <tr>\n",
       "      <th>93</th>\n",
       "      <td>@Fadim98171431 @AdeNursaadah @dzulfian @jokowi...</td>\n",
       "    </tr>\n",
       "    <tr>\n",
       "      <th>45</th>\n",
       "      <td>@tempodotco @PutraWadapi Pak @jokowi masalahny...</td>\n",
       "    </tr>\n",
       "    <tr>\n",
       "      <th>17</th>\n",
       "      <td>@tempodotco Sok banget lu pak jok.. Munafik.. ...</td>\n",
       "    </tr>\n",
       "    <tr>\n",
       "      <th>13</th>\n",
       "      <td>Tanggapan presiden @jokowi atas kritikan mahas...</td>\n",
       "    </tr>\n",
       "    <tr>\n",
       "      <th>43</th>\n",
       "      <td>Dia pernah jadi bawahannya jokowi malah dengan...</td>\n",
       "    </tr>\n",
       "    <tr>\n",
       "      <th>55</th>\n",
       "      <td>Heboh! BEM UI Kritik Jokowi Begini Tanggapan B...</td>\n",
       "    </tr>\n",
       "    <tr>\n",
       "      <th>73</th>\n",
       "      <td>@SaveMoslem1 Hayoloh..@erickthohir @jokowi \\n\\n😂😂</td>\n",
       "    </tr>\n",
       "    <tr>\n",
       "      <th>38</th>\n",
       "      <td>@yusuf_dumdum @jokowi Pas banget budaya tata k...</td>\n",
       "    </tr>\n",
       "    <tr>\n",
       "      <th>98</th>\n",
       "      <td>@kurawa @KemenegBUMN @jokowi iki piye Pak? @er...</td>\n",
       "    </tr>\n",
       "    <tr>\n",
       "      <th>84</th>\n",
       "      <td>@pengangguranRI @KontraS @KPK_RI @jokowi Rakya...</td>\n",
       "    </tr>\n",
       "    <tr>\n",
       "      <th>58</th>\n",
       "      <td>Di iyakan saja deh si @ruhutsitompul  faktanya...</td>\n",
       "    </tr>\n",
       "    <tr>\n",
       "      <th>25</th>\n",
       "      <td>@yusuf_dumdum @habibthink @jokowi https://t.co...</td>\n",
       "    </tr>\n",
       "    <tr>\n",
       "      <th>21</th>\n",
       "      <td>Pakde @jokowi  jokowi emg penyabar jujur , ber...</td>\n",
       "    </tr>\n",
       "    <tr>\n",
       "      <th>71</th>\n",
       "      <td>@bumnbersatu @domimaghu98 @beyahmad @jokowi @D...</td>\n",
       "    </tr>\n",
       "    <tr>\n",
       "      <th>29</th>\n",
       "      <td>Diam-diam Pinangki Sirna Malasari Bikin Jaksa ...</td>\n",
       "    </tr>\n",
       "    <tr>\n",
       "      <th>6</th>\n",
       "      <td>@vitygf rakyat jokowi😎</td>\n",
       "    </tr>\n",
       "    <tr>\n",
       "      <th>27</th>\n",
       "      <td>@idtodayco Iya betull belum ada presiden negar...</td>\n",
       "    </tr>\n",
       "    <tr>\n",
       "      <th>61</th>\n",
       "      <td>\"Ya jadi saya kira ini bentuk ekspresi mahasis...</td>\n",
       "    </tr>\n",
       "    <tr>\n",
       "      <th>19</th>\n",
       "      <td>Dukung BEM UI Kritik Jokowi, Din Syamsuddin:Up...</td>\n",
       "    </tr>\n",
       "    <tr>\n",
       "      <th>88</th>\n",
       "      <td>@risnawan @jokowi @erickthohir Tidak ada pilih...</td>\n",
       "    </tr>\n",
       "  </tbody>\n",
       "</table>\n",
       "</div>"
      ],
      "text/plain": [
       "                                              content\n",
       "93  @Fadim98171431 @AdeNursaadah @dzulfian @jokowi...\n",
       "45  @tempodotco @PutraWadapi Pak @jokowi masalahny...\n",
       "17  @tempodotco Sok banget lu pak jok.. Munafik.. ...\n",
       "13  Tanggapan presiden @jokowi atas kritikan mahas...\n",
       "43  Dia pernah jadi bawahannya jokowi malah dengan...\n",
       "55  Heboh! BEM UI Kritik Jokowi Begini Tanggapan B...\n",
       "73  @SaveMoslem1 Hayoloh..@erickthohir @jokowi \\n\\n😂😂\n",
       "38  @yusuf_dumdum @jokowi Pas banget budaya tata k...\n",
       "98  @kurawa @KemenegBUMN @jokowi iki piye Pak? @er...\n",
       "84  @pengangguranRI @KontraS @KPK_RI @jokowi Rakya...\n",
       "58  Di iyakan saja deh si @ruhutsitompul  faktanya...\n",
       "25  @yusuf_dumdum @habibthink @jokowi https://t.co...\n",
       "21  Pakde @jokowi  jokowi emg penyabar jujur , ber...\n",
       "71  @bumnbersatu @domimaghu98 @beyahmad @jokowi @D...\n",
       "29  Diam-diam Pinangki Sirna Malasari Bikin Jaksa ...\n",
       "6                              @vitygf rakyat jokowi😎\n",
       "27  @idtodayco Iya betull belum ada presiden negar...\n",
       "61  \"Ya jadi saya kira ini bentuk ekspresi mahasis...\n",
       "19  Dukung BEM UI Kritik Jokowi, Din Syamsuddin:Up...\n",
       "88  @risnawan @jokowi @erickthohir Tidak ada pilih..."
      ]
     },
     "execution_count": 44,
     "metadata": {
      "tags": []
     },
     "output_type": "execute_result"
    }
   ],
   "source": [
    "df.sample(20)"
   ]
  },
  {
   "cell_type": "code",
   "execution_count": null,
   "metadata": {
    "colab": {
     "base_uri": "https://localhost:8080/"
    },
    "id": "OKR0I5yL0Zui",
    "outputId": "f873663a-0d36-44c4-e0ae-4c85a4af1ac6"
   },
   "outputs": [
    {
     "data": {
      "text/plain": [
       "content    0\n",
       "dtype: int64"
      ]
     },
     "execution_count": 45,
     "metadata": {
      "tags": []
     },
     "output_type": "execute_result"
    }
   ],
   "source": [
    "df.isnull().sum()"
   ]
  },
  {
   "cell_type": "code",
   "execution_count": null,
   "metadata": {
    "colab": {
     "base_uri": "https://localhost:8080/"
    },
    "id": "vaQzWvbI00qw",
    "outputId": "8669005b-dc56-43c3-9d91-2f95d2f5a3b8"
   },
   "outputs": [
    {
     "data": {
      "text/plain": [
       "content    0\n",
       "dtype: int64"
      ]
     },
     "execution_count": 46,
     "metadata": {
      "tags": []
     },
     "output_type": "execute_result"
    }
   ],
   "source": [
    "df.isna().sum()"
   ]
  },
  {
   "cell_type": "code",
   "execution_count": null,
   "metadata": {
    "id": "lxKPOi7-05gz"
   },
   "outputs": [],
   "source": [
    "df.content=df.content.astype(str)"
   ]
  },
  {
   "cell_type": "code",
   "execution_count": null,
   "metadata": {
    "id": "AyVoKbt91RTr"
   },
   "outputs": [],
   "source": [
    "df.to_csv('/content/drive/MyDrive/Colab_Notebooks/FinalProject_MiniBootcamp_BisaAI/dataset_jokowi.csv',index=None)"
   ]
  },
  {
   "cell_type": "markdown",
   "metadata": {
    "id": "AbEnnJdl2KeF"
   },
   "source": [
    "# **Data Preparation & Data Cleaning**"
   ]
  },
  {
   "cell_type": "code",
   "execution_count": null,
   "metadata": {
    "colab": {
     "base_uri": "https://localhost:8080/",
     "height": 419
    },
    "id": "_wO7gf-d1-9U",
    "outputId": "21a0e3d0-2e6f-4086-942c-cae56bbef8dc"
   },
   "outputs": [
    {
     "data": {
      "text/html": [
       "<div>\n",
       "<style scoped>\n",
       "    .dataframe tbody tr th:only-of-type {\n",
       "        vertical-align: middle;\n",
       "    }\n",
       "\n",
       "    .dataframe tbody tr th {\n",
       "        vertical-align: top;\n",
       "    }\n",
       "\n",
       "    .dataframe thead th {\n",
       "        text-align: right;\n",
       "    }\n",
       "</style>\n",
       "<table border=\"1\" class=\"dataframe\">\n",
       "  <thead>\n",
       "    <tr style=\"text-align: right;\">\n",
       "      <th></th>\n",
       "      <th>content</th>\n",
       "    </tr>\n",
       "  </thead>\n",
       "  <tbody>\n",
       "    <tr>\n",
       "      <th>0</th>\n",
       "      <td>@ChomZdelaRoCa Mantap, pak Jokowi mundurlah de...</td>\n",
       "    </tr>\n",
       "    <tr>\n",
       "      <th>1</th>\n",
       "      <td>Jokowi: Universitas Tidak Perlu Menghalangi Ma...</td>\n",
       "    </tr>\n",
       "    <tr>\n",
       "      <th>2</th>\n",
       "      <td>@logic_editor Jokowi Pemimpin Asia\\nJokowi Pel...</td>\n",
       "    </tr>\n",
       "    <tr>\n",
       "      <th>3</th>\n",
       "      <td>@Mugundi @VIVAcoid @bemkmipb mahasiswa jaman j...</td>\n",
       "    </tr>\n",
       "    <tr>\n",
       "      <th>4</th>\n",
       "      <td>@tunggul_edward @dzulfian @jokowi 🤣🤣🤣</td>\n",
       "    </tr>\n",
       "    <tr>\n",
       "      <th>...</th>\n",
       "      <td>...</td>\n",
       "    </tr>\n",
       "    <tr>\n",
       "      <th>95</th>\n",
       "      <td>@metimecoffee @KontraS @MCAOps @KPK_RI @jokowi...</td>\n",
       "    </tr>\n",
       "    <tr>\n",
       "      <th>96</th>\n",
       "      <td>JOKOWI JAWAB BEM UI:\\n\\n\"Ya, Itukan sudah seja...</td>\n",
       "    </tr>\n",
       "    <tr>\n",
       "      <th>97</th>\n",
       "      <td>@mulanbilqis @agussusilo7562 @RamliRizal Makan...</td>\n",
       "    </tr>\n",
       "    <tr>\n",
       "      <th>98</th>\n",
       "      <td>@kurawa @KemenegBUMN @jokowi iki piye Pak? @er...</td>\n",
       "    </tr>\n",
       "    <tr>\n",
       "      <th>99</th>\n",
       "      <td>@robert868686 @OssyDermawan @ProfYLH @SBYudhoy...</td>\n",
       "    </tr>\n",
       "  </tbody>\n",
       "</table>\n",
       "<p>100 rows × 1 columns</p>\n",
       "</div>"
      ],
      "text/plain": [
       "                                              content\n",
       "0   @ChomZdelaRoCa Mantap, pak Jokowi mundurlah de...\n",
       "1   Jokowi: Universitas Tidak Perlu Menghalangi Ma...\n",
       "2   @logic_editor Jokowi Pemimpin Asia\\nJokowi Pel...\n",
       "3   @Mugundi @VIVAcoid @bemkmipb mahasiswa jaman j...\n",
       "4               @tunggul_edward @dzulfian @jokowi 🤣🤣🤣\n",
       "..                                                ...\n",
       "95  @metimecoffee @KontraS @MCAOps @KPK_RI @jokowi...\n",
       "96  JOKOWI JAWAB BEM UI:\\n\\n\"Ya, Itukan sudah seja...\n",
       "97  @mulanbilqis @agussusilo7562 @RamliRizal Makan...\n",
       "98  @kurawa @KemenegBUMN @jokowi iki piye Pak? @er...\n",
       "99  @robert868686 @OssyDermawan @ProfYLH @SBYudhoy...\n",
       "\n",
       "[100 rows x 1 columns]"
      ]
     },
     "execution_count": 104,
     "metadata": {
      "tags": []
     },
     "output_type": "execute_result"
    }
   ],
   "source": [
    "df=pd.read_csv('/content/drive/MyDrive/Colab_Notebooks/FinalProject_MiniBootcamp_BisaAI/dataset_jokowi.csv')\n",
    "df"
   ]
  },
  {
   "cell_type": "code",
   "execution_count": null,
   "metadata": {
    "id": "NAMnFrau2Vzz"
   },
   "outputs": [],
   "source": [
    "#  Cleaning text with Library Regex\n",
    "import re\n",
    "import string"
   ]
  },
  {
   "cell_type": "code",
   "execution_count": null,
   "metadata": {
    "id": "9eEO-5pI2e3a"
   },
   "outputs": [],
   "source": [
    "def clean_text(tweet):\n",
    "    tweet = tweet.lower() # text lowercase\n",
    "    tweet = re.sub('@[^\\s]+', '', tweet) # remove usernames\n",
    "    tweet = re.sub('\\[.*?\\]', '', tweet) # remove square brackets\n",
    "    tweet = re.sub('((www\\.[^\\s]+)|(https?://[^\\s]+))', '', tweet) # remove URLs\n",
    "    tweet = re.sub('[%s]' % re.escape(string.punctuation), '', tweet) # remove punctuation\n",
    "    tweet = re.sub('\\w*\\d\\w*', '', tweet) \n",
    "    tweet = re.sub('[‘’“”…]', '', tweet)\n",
    "    tweet = re.sub('\\n', '', tweet)\n",
    "    return tweet\n",
    "\n",
    "    \n",
    "tweet = lambda x: clean_text(x)"
   ]
  },
  {
   "cell_type": "code",
   "execution_count": null,
   "metadata": {
    "colab": {
     "base_uri": "https://localhost:8080/",
     "height": 419
    },
    "id": "e82iEUks4RB2",
    "outputId": "c6392fbe-1d75-44db-def5-87c51c06f9a9"
   },
   "outputs": [
    {
     "data": {
      "text/html": [
       "<div>\n",
       "<style scoped>\n",
       "    .dataframe tbody tr th:only-of-type {\n",
       "        vertical-align: middle;\n",
       "    }\n",
       "\n",
       "    .dataframe tbody tr th {\n",
       "        vertical-align: top;\n",
       "    }\n",
       "\n",
       "    .dataframe thead th {\n",
       "        text-align: right;\n",
       "    }\n",
       "</style>\n",
       "<table border=\"1\" class=\"dataframe\">\n",
       "  <thead>\n",
       "    <tr style=\"text-align: right;\">\n",
       "      <th></th>\n",
       "      <th>content</th>\n",
       "      <th>clean1</th>\n",
       "    </tr>\n",
       "  </thead>\n",
       "  <tbody>\n",
       "    <tr>\n",
       "      <th>0</th>\n",
       "      <td>@ChomZdelaRoCa Mantap, pak Jokowi mundurlah de...</td>\n",
       "      <td>mantap pak jokowi mundurlah dengan bijak dan ...</td>\n",
       "    </tr>\n",
       "    <tr>\n",
       "      <th>1</th>\n",
       "      <td>Jokowi: Universitas Tidak Perlu Menghalangi Ma...</td>\n",
       "      <td>jokowi universitas tidak perlu menghalangi mah...</td>\n",
       "    </tr>\n",
       "    <tr>\n",
       "      <th>2</th>\n",
       "      <td>@logic_editor Jokowi Pemimpin Asia\\nJokowi Pel...</td>\n",
       "      <td>jokowi pemimpin asiajokowi pelindung asiajoko...</td>\n",
       "    </tr>\n",
       "    <tr>\n",
       "      <th>3</th>\n",
       "      <td>@Mugundi @VIVAcoid @bemkmipb mahasiswa jaman j...</td>\n",
       "      <td>mahasiswa jaman jokowi udah ngga segarang d...</td>\n",
       "    </tr>\n",
       "    <tr>\n",
       "      <th>4</th>\n",
       "      <td>@tunggul_edward @dzulfian @jokowi 🤣🤣🤣</td>\n",
       "      <td>🤣🤣🤣</td>\n",
       "    </tr>\n",
       "    <tr>\n",
       "      <th>...</th>\n",
       "      <td>...</td>\n",
       "      <td>...</td>\n",
       "    </tr>\n",
       "    <tr>\n",
       "      <th>95</th>\n",
       "      <td>@metimecoffee @KontraS @MCAOps @KPK_RI @jokowi...</td>\n",
       "      <td>siapa yang jujur</td>\n",
       "    </tr>\n",
       "    <tr>\n",
       "      <th>96</th>\n",
       "      <td>JOKOWI JAWAB BEM UI:\\n\\n\"Ya, Itukan sudah seja...</td>\n",
       "      <td>jokowi jawab bem uiya itukan sudah sejak lama ...</td>\n",
       "    </tr>\n",
       "    <tr>\n",
       "      <th>97</th>\n",
       "      <td>@mulanbilqis @agussusilo7562 @RamliRizal Makan...</td>\n",
       "      <td>makan itu bobot akedemis mu itu jokowi suks...</td>\n",
       "    </tr>\n",
       "    <tr>\n",
       "      <th>98</th>\n",
       "      <td>@kurawa @KemenegBUMN @jokowi iki piye Pak? @er...</td>\n",
       "      <td>iki piye pak   kok bisa pak</td>\n",
       "    </tr>\n",
       "    <tr>\n",
       "      <th>99</th>\n",
       "      <td>@robert868686 @OssyDermawan @ProfYLH @SBYudhoy...</td>\n",
       "      <td>yg skrg malah lalak lolok mencla mencle p...</td>\n",
       "    </tr>\n",
       "  </tbody>\n",
       "</table>\n",
       "<p>100 rows × 2 columns</p>\n",
       "</div>"
      ],
      "text/plain": [
       "                                              content                                             clean1\n",
       "0   @ChomZdelaRoCa Mantap, pak Jokowi mundurlah de...   mantap pak jokowi mundurlah dengan bijak dan ...\n",
       "1   Jokowi: Universitas Tidak Perlu Menghalangi Ma...  jokowi universitas tidak perlu menghalangi mah...\n",
       "2   @logic_editor Jokowi Pemimpin Asia\\nJokowi Pel...   jokowi pemimpin asiajokowi pelindung asiajoko...\n",
       "3   @Mugundi @VIVAcoid @bemkmipb mahasiswa jaman j...     mahasiswa jaman jokowi udah ngga segarang d...\n",
       "4               @tunggul_edward @dzulfian @jokowi 🤣🤣🤣                                                🤣🤣🤣\n",
       "..                                                ...                                                ...\n",
       "95  @metimecoffee @KontraS @MCAOps @KPK_RI @jokowi...                                   siapa yang jujur\n",
       "96  JOKOWI JAWAB BEM UI:\\n\\n\"Ya, Itukan sudah seja...  jokowi jawab bem uiya itukan sudah sejak lama ...\n",
       "97  @mulanbilqis @agussusilo7562 @RamliRizal Makan...     makan itu bobot akedemis mu itu jokowi suks...\n",
       "98  @kurawa @KemenegBUMN @jokowi iki piye Pak? @er...                        iki piye pak   kok bisa pak\n",
       "99  @robert868686 @OssyDermawan @ProfYLH @SBYudhoy...       yg skrg malah lalak lolok mencla mencle p...\n",
       "\n",
       "[100 rows x 2 columns]"
      ]
     },
     "execution_count": 107,
     "metadata": {
      "tags": []
     },
     "output_type": "execute_result"
    }
   ],
   "source": [
    "df['clean1'] = pd.DataFrame(df.content.apply(tweet))\n",
    "df"
   ]
  },
  {
   "cell_type": "code",
   "execution_count": null,
   "metadata": {
    "colab": {
     "base_uri": "https://localhost:8080/",
     "height": 453
    },
    "id": "bgnt_bqW4VDh",
    "outputId": "74b7aba2-164f-47b3-a425-933bc7fc98cd"
   },
   "outputs": [
    {
     "name": "stdout",
     "output_type": "stream",
     "text": [
      "[nltk_data] Downloading package stopwords to /root/nltk_data...\n",
      "[nltk_data]   Package stopwords is already up-to-date!\n"
     ]
    },
    {
     "data": {
      "text/html": [
       "<div>\n",
       "<style scoped>\n",
       "    .dataframe tbody tr th:only-of-type {\n",
       "        vertical-align: middle;\n",
       "    }\n",
       "\n",
       "    .dataframe tbody tr th {\n",
       "        vertical-align: top;\n",
       "    }\n",
       "\n",
       "    .dataframe thead th {\n",
       "        text-align: right;\n",
       "    }\n",
       "</style>\n",
       "<table border=\"1\" class=\"dataframe\">\n",
       "  <thead>\n",
       "    <tr style=\"text-align: right;\">\n",
       "      <th></th>\n",
       "      <th>content</th>\n",
       "      <th>clean1</th>\n",
       "      <th>clean2</th>\n",
       "    </tr>\n",
       "  </thead>\n",
       "  <tbody>\n",
       "    <tr>\n",
       "      <th>0</th>\n",
       "      <td>@ChomZdelaRoCa Mantap, pak Jokowi mundurlah de...</td>\n",
       "      <td>mantap pak jokowi mundurlah dengan bijak dan ...</td>\n",
       "      <td>mantap jokowi mundurlah bijak kawal pulang sol...</td>\n",
       "    </tr>\n",
       "    <tr>\n",
       "      <th>1</th>\n",
       "      <td>Jokowi: Universitas Tidak Perlu Menghalangi Ma...</td>\n",
       "      <td>jokowi universitas tidak perlu menghalangi mah...</td>\n",
       "      <td>jokowi universitas menghalangi mahasiswa berek...</td>\n",
       "    </tr>\n",
       "    <tr>\n",
       "      <th>2</th>\n",
       "      <td>@logic_editor Jokowi Pemimpin Asia\\nJokowi Pel...</td>\n",
       "      <td>jokowi pemimpin asiajokowi pelindung asiajoko...</td>\n",
       "      <td>jokowi pemimpin asiajokowi pelindung asiajokow...</td>\n",
       "    </tr>\n",
       "    <tr>\n",
       "      <th>3</th>\n",
       "      <td>@Mugundi @VIVAcoid @bemkmipb mahasiswa jaman j...</td>\n",
       "      <td>mahasiswa jaman jokowi udah ngga segarang d...</td>\n",
       "      <td>mahasiswa jaman jokowi udah ngga segarang taku...</td>\n",
       "    </tr>\n",
       "    <tr>\n",
       "      <th>4</th>\n",
       "      <td>@tunggul_edward @dzulfian @jokowi 🤣🤣🤣</td>\n",
       "      <td>🤣🤣🤣</td>\n",
       "      <td>🤣🤣🤣</td>\n",
       "    </tr>\n",
       "    <tr>\n",
       "      <th>...</th>\n",
       "      <td>...</td>\n",
       "      <td>...</td>\n",
       "      <td>...</td>\n",
       "    </tr>\n",
       "    <tr>\n",
       "      <th>95</th>\n",
       "      <td>@metimecoffee @KontraS @MCAOps @KPK_RI @jokowi...</td>\n",
       "      <td>siapa yang jujur</td>\n",
       "      <td>jujur</td>\n",
       "    </tr>\n",
       "    <tr>\n",
       "      <th>96</th>\n",
       "      <td>JOKOWI JAWAB BEM UI:\\n\\n\"Ya, Itukan sudah seja...</td>\n",
       "      <td>jokowi jawab bem uiya itukan sudah sejak lama ...</td>\n",
       "      <td>jokowi bem uiya itukan ya bilang klemarklemer ...</td>\n",
       "    </tr>\n",
       "    <tr>\n",
       "      <th>97</th>\n",
       "      <td>@mulanbilqis @agussusilo7562 @RamliRizal Makan...</td>\n",
       "      <td>makan itu bobot akedemis mu itu jokowi suks...</td>\n",
       "      <td>makan bobot akedemis mu jokowi sukses jd presi...</td>\n",
       "    </tr>\n",
       "    <tr>\n",
       "      <th>98</th>\n",
       "      <td>@kurawa @KemenegBUMN @jokowi iki piye Pak? @er...</td>\n",
       "      <td>iki piye pak   kok bisa pak</td>\n",
       "      <td>iki piye</td>\n",
       "    </tr>\n",
       "    <tr>\n",
       "      <th>99</th>\n",
       "      <td>@robert868686 @OssyDermawan @ProfYLH @SBYudhoy...</td>\n",
       "      <td>yg skrg malah lalak lolok mencla mencle p...</td>\n",
       "      <td>yg skrg lalak lolok mencla mencle plangak plongok</td>\n",
       "    </tr>\n",
       "  </tbody>\n",
       "</table>\n",
       "<p>100 rows × 3 columns</p>\n",
       "</div>"
      ],
      "text/plain": [
       "                                              content  ...                                             clean2\n",
       "0   @ChomZdelaRoCa Mantap, pak Jokowi mundurlah de...  ...  mantap jokowi mundurlah bijak kawal pulang sol...\n",
       "1   Jokowi: Universitas Tidak Perlu Menghalangi Ma...  ...  jokowi universitas menghalangi mahasiswa berek...\n",
       "2   @logic_editor Jokowi Pemimpin Asia\\nJokowi Pel...  ...  jokowi pemimpin asiajokowi pelindung asiajokow...\n",
       "3   @Mugundi @VIVAcoid @bemkmipb mahasiswa jaman j...  ...  mahasiswa jaman jokowi udah ngga segarang taku...\n",
       "4               @tunggul_edward @dzulfian @jokowi 🤣🤣🤣  ...                                                🤣🤣🤣\n",
       "..                                                ...  ...                                                ...\n",
       "95  @metimecoffee @KontraS @MCAOps @KPK_RI @jokowi...  ...                                              jujur\n",
       "96  JOKOWI JAWAB BEM UI:\\n\\n\"Ya, Itukan sudah seja...  ...  jokowi bem uiya itukan ya bilang klemarklemer ...\n",
       "97  @mulanbilqis @agussusilo7562 @RamliRizal Makan...  ...  makan bobot akedemis mu jokowi sukses jd presi...\n",
       "98  @kurawa @KemenegBUMN @jokowi iki piye Pak? @er...  ...                                           iki piye\n",
       "99  @robert868686 @OssyDermawan @ProfYLH @SBYudhoy...  ...  yg skrg lalak lolok mencla mencle plangak plongok\n",
       "\n",
       "[100 rows x 3 columns]"
      ]
     },
     "execution_count": 108,
     "metadata": {
      "tags": []
     },
     "output_type": "execute_result"
    }
   ],
   "source": [
    "import nltk\n",
    "nltk.download('stopwords')\n",
    "from nltk.corpus import stopwords\n",
    "additional  = ['rt','rts','retweet']\n",
    "swords = set().union(stopwords.words('indonesian'), additional)\n",
    "\n",
    "df['clean2'] = (df['clean1'].apply(lambda x: ' '.join([word for word in x.split() if word not in (swords)])))\n",
    "df"
   ]
  },
  {
   "cell_type": "code",
   "execution_count": null,
   "metadata": {
    "colab": {
     "base_uri": "https://localhost:8080/"
    },
    "id": "8F6_MtTB4v78",
    "outputId": "5d3eb9de-044d-487e-9d29-313fef383c59"
   },
   "outputs": [
    {
     "name": "stdout",
     "output_type": "stream",
     "text": [
      "Requirement already satisfied: Sastrawi in /usr/local/lib/python3.7/dist-packages (1.0.1)\n"
     ]
    }
   ],
   "source": [
    "!pip install Sastrawi\n",
    "from Sastrawi.Stemmer.StemmerFactory import StemmerFactory\n",
    "\n",
    "factory = StemmerFactory()\n",
    "stemmer = factory.create_stemmer()\n",
    "\n",
    "list_hasil = df.clean2\n",
    "\n",
    "output = [(stemmer.stem(token)) for token in list_hasil]"
   ]
  },
  {
   "cell_type": "code",
   "execution_count": null,
   "metadata": {
    "colab": {
     "base_uri": "https://localhost:8080/",
     "height": 572
    },
    "id": "RJMK5UqW5K5E",
    "outputId": "2770fba5-a1ea-4f19-b4b7-93078d066724"
   },
   "outputs": [
    {
     "data": {
      "text/html": [
       "<div>\n",
       "<style scoped>\n",
       "    .dataframe tbody tr th:only-of-type {\n",
       "        vertical-align: middle;\n",
       "    }\n",
       "\n",
       "    .dataframe tbody tr th {\n",
       "        vertical-align: top;\n",
       "    }\n",
       "\n",
       "    .dataframe thead th {\n",
       "        text-align: right;\n",
       "    }\n",
       "</style>\n",
       "<table border=\"1\" class=\"dataframe\">\n",
       "  <thead>\n",
       "    <tr style=\"text-align: right;\">\n",
       "      <th></th>\n",
       "      <th>content</th>\n",
       "      <th>clean1</th>\n",
       "      <th>clean2</th>\n",
       "      <th>clean3</th>\n",
       "    </tr>\n",
       "  </thead>\n",
       "  <tbody>\n",
       "    <tr>\n",
       "      <th>0</th>\n",
       "      <td>@ChomZdelaRoCa Mantap, pak Jokowi mundurlah de...</td>\n",
       "      <td>mantap pak jokowi mundurlah dengan bijak dan ...</td>\n",
       "      <td>mantap jokowi mundurlah bijak kawal pulang sol...</td>\n",
       "      <td>mantap jokowi mundur bijak kawal pulang solo d...</td>\n",
       "    </tr>\n",
       "    <tr>\n",
       "      <th>1</th>\n",
       "      <td>Jokowi: Universitas Tidak Perlu Menghalangi Ma...</td>\n",
       "      <td>jokowi universitas tidak perlu menghalangi mah...</td>\n",
       "      <td>jokowi universitas menghalangi mahasiswa berek...</td>\n",
       "      <td>jokowi universitas halang mahasiswa ekspres be...</td>\n",
       "    </tr>\n",
       "    <tr>\n",
       "      <th>2</th>\n",
       "      <td>@logic_editor Jokowi Pemimpin Asia\\nJokowi Pel...</td>\n",
       "      <td>jokowi pemimpin asiajokowi pelindung asiajoko...</td>\n",
       "      <td>jokowi pemimpin asiajokowi pelindung asiajokow...</td>\n",
       "      <td>jokowi pimpin asiajokowi lindung asiajokowi ca...</td>\n",
       "    </tr>\n",
       "    <tr>\n",
       "      <th>3</th>\n",
       "      <td>@Mugundi @VIVAcoid @bemkmipb mahasiswa jaman j...</td>\n",
       "      <td>mahasiswa jaman jokowi udah ngga segarang d...</td>\n",
       "      <td>mahasiswa jaman jokowi udah ngga segarang taku...</td>\n",
       "      <td>mahasiswa jaman jokowi udah ngga garang takut ...</td>\n",
       "    </tr>\n",
       "    <tr>\n",
       "      <th>4</th>\n",
       "      <td>@tunggul_edward @dzulfian @jokowi 🤣🤣🤣</td>\n",
       "      <td>🤣🤣🤣</td>\n",
       "      <td>🤣🤣🤣</td>\n",
       "      <td></td>\n",
       "    </tr>\n",
       "    <tr>\n",
       "      <th>...</th>\n",
       "      <td>...</td>\n",
       "      <td>...</td>\n",
       "      <td>...</td>\n",
       "      <td>...</td>\n",
       "    </tr>\n",
       "    <tr>\n",
       "      <th>95</th>\n",
       "      <td>@metimecoffee @KontraS @MCAOps @KPK_RI @jokowi...</td>\n",
       "      <td>siapa yang jujur</td>\n",
       "      <td>jujur</td>\n",
       "      <td>jujur</td>\n",
       "    </tr>\n",
       "    <tr>\n",
       "      <th>96</th>\n",
       "      <td>JOKOWI JAWAB BEM UI:\\n\\n\"Ya, Itukan sudah seja...</td>\n",
       "      <td>jokowi jawab bem uiya itukan sudah sejak lama ...</td>\n",
       "      <td>jokowi bem uiya itukan ya bilang klemarklemer ...</td>\n",
       "      <td>jokowi bem uiya itu ya bilang klemarklemer ngo...</td>\n",
       "    </tr>\n",
       "    <tr>\n",
       "      <th>97</th>\n",
       "      <td>@mulanbilqis @agussusilo7562 @RamliRizal Makan...</td>\n",
       "      <td>makan itu bobot akedemis mu itu jokowi suks...</td>\n",
       "      <td>makan bobot akedemis mu jokowi sukses jd presi...</td>\n",
       "      <td>makan bobot akedemis mu jokowi sukses jd presi...</td>\n",
       "    </tr>\n",
       "    <tr>\n",
       "      <th>98</th>\n",
       "      <td>@kurawa @KemenegBUMN @jokowi iki piye Pak? @er...</td>\n",
       "      <td>iki piye pak   kok bisa pak</td>\n",
       "      <td>iki piye</td>\n",
       "      <td>iki piye</td>\n",
       "    </tr>\n",
       "    <tr>\n",
       "      <th>99</th>\n",
       "      <td>@robert868686 @OssyDermawan @ProfYLH @SBYudhoy...</td>\n",
       "      <td>yg skrg malah lalak lolok mencla mencle p...</td>\n",
       "      <td>yg skrg lalak lolok mencla mencle plangak plongok</td>\n",
       "      <td>yg skrg lalak lolok mencla mencle plangak plongok</td>\n",
       "    </tr>\n",
       "  </tbody>\n",
       "</table>\n",
       "<p>100 rows × 4 columns</p>\n",
       "</div>"
      ],
      "text/plain": [
       "                                              content  ...                                             clean3\n",
       "0   @ChomZdelaRoCa Mantap, pak Jokowi mundurlah de...  ...  mantap jokowi mundur bijak kawal pulang solo d...\n",
       "1   Jokowi: Universitas Tidak Perlu Menghalangi Ma...  ...  jokowi universitas halang mahasiswa ekspres be...\n",
       "2   @logic_editor Jokowi Pemimpin Asia\\nJokowi Pel...  ...  jokowi pimpin asiajokowi lindung asiajokowi ca...\n",
       "3   @Mugundi @VIVAcoid @bemkmipb mahasiswa jaman j...  ...  mahasiswa jaman jokowi udah ngga garang takut ...\n",
       "4               @tunggul_edward @dzulfian @jokowi 🤣🤣🤣  ...                                                   \n",
       "..                                                ...  ...                                                ...\n",
       "95  @metimecoffee @KontraS @MCAOps @KPK_RI @jokowi...  ...                                              jujur\n",
       "96  JOKOWI JAWAB BEM UI:\\n\\n\"Ya, Itukan sudah seja...  ...  jokowi bem uiya itu ya bilang klemarklemer ngo...\n",
       "97  @mulanbilqis @agussusilo7562 @RamliRizal Makan...  ...  makan bobot akedemis mu jokowi sukses jd presi...\n",
       "98  @kurawa @KemenegBUMN @jokowi iki piye Pak? @er...  ...                                           iki piye\n",
       "99  @robert868686 @OssyDermawan @ProfYLH @SBYudhoy...  ...  yg skrg lalak lolok mencla mencle plangak plongok\n",
       "\n",
       "[100 rows x 4 columns]"
      ]
     },
     "execution_count": 110,
     "metadata": {
      "tags": []
     },
     "output_type": "execute_result"
    }
   ],
   "source": [
    "df['clean3'] = output\n",
    "df"
   ]
  },
  {
   "cell_type": "code",
   "execution_count": null,
   "metadata": {
    "colab": {
     "base_uri": "https://localhost:8080/",
     "height": 572
    },
    "id": "jExUDUgC5xan",
    "outputId": "acae1b67-42d1-4723-b9e2-b3b85e83e709"
   },
   "outputs": [
    {
     "data": {
      "text/html": [
       "<div>\n",
       "<style scoped>\n",
       "    .dataframe tbody tr th:only-of-type {\n",
       "        vertical-align: middle;\n",
       "    }\n",
       "\n",
       "    .dataframe tbody tr th {\n",
       "        vertical-align: top;\n",
       "    }\n",
       "\n",
       "    .dataframe thead th {\n",
       "        text-align: right;\n",
       "    }\n",
       "</style>\n",
       "<table border=\"1\" class=\"dataframe\">\n",
       "  <thead>\n",
       "    <tr style=\"text-align: right;\">\n",
       "      <th></th>\n",
       "      <th>content</th>\n",
       "      <th>clean1</th>\n",
       "      <th>clean2</th>\n",
       "      <th>clean3</th>\n",
       "    </tr>\n",
       "  </thead>\n",
       "  <tbody>\n",
       "    <tr>\n",
       "      <th>0</th>\n",
       "      <td>@ChomZdelaRoCa Mantap, pak Jokowi mundurlah de...</td>\n",
       "      <td>mantap pak jokowi mundurlah dengan bijak dan ...</td>\n",
       "      <td>mantap jokowi mundurlah bijak kawal pulang sol...</td>\n",
       "      <td>mantap jokowi mundur bijak kawal pulang solo d...</td>\n",
       "    </tr>\n",
       "    <tr>\n",
       "      <th>1</th>\n",
       "      <td>Jokowi: Universitas Tidak Perlu Menghalangi Ma...</td>\n",
       "      <td>jokowi universitas tidak perlu menghalangi mah...</td>\n",
       "      <td>jokowi universitas menghalangi mahasiswa berek...</td>\n",
       "      <td>jokowi universitas halang mahasiswa ekspres be...</td>\n",
       "    </tr>\n",
       "    <tr>\n",
       "      <th>2</th>\n",
       "      <td>@logic_editor Jokowi Pemimpin Asia\\nJokowi Pel...</td>\n",
       "      <td>jokowi pemimpin asiajokowi pelindung asiajoko...</td>\n",
       "      <td>jokowi pemimpin asiajokowi pelindung asiajokow...</td>\n",
       "      <td>jokowi pimpin asiajokowi lindung asiajokowi ca...</td>\n",
       "    </tr>\n",
       "    <tr>\n",
       "      <th>3</th>\n",
       "      <td>@Mugundi @VIVAcoid @bemkmipb mahasiswa jaman j...</td>\n",
       "      <td>mahasiswa jaman jokowi udah ngga segarang d...</td>\n",
       "      <td>mahasiswa jaman jokowi udah ngga segarang taku...</td>\n",
       "      <td>mahasiswa jaman jokowi udah ngga garang takut ...</td>\n",
       "    </tr>\n",
       "    <tr>\n",
       "      <th>4</th>\n",
       "      <td>@tunggul_edward @dzulfian @jokowi 🤣🤣🤣</td>\n",
       "      <td>🤣🤣🤣</td>\n",
       "      <td>🤣🤣🤣</td>\n",
       "      <td></td>\n",
       "    </tr>\n",
       "    <tr>\n",
       "      <th>...</th>\n",
       "      <td>...</td>\n",
       "      <td>...</td>\n",
       "      <td>...</td>\n",
       "      <td>...</td>\n",
       "    </tr>\n",
       "    <tr>\n",
       "      <th>95</th>\n",
       "      <td>@metimecoffee @KontraS @MCAOps @KPK_RI @jokowi...</td>\n",
       "      <td>siapa yang jujur</td>\n",
       "      <td>jujur</td>\n",
       "      <td>jujur</td>\n",
       "    </tr>\n",
       "    <tr>\n",
       "      <th>96</th>\n",
       "      <td>JOKOWI JAWAB BEM UI:\\n\\n\"Ya, Itukan sudah seja...</td>\n",
       "      <td>jokowi jawab bem uiya itukan sudah sejak lama ...</td>\n",
       "      <td>jokowi bem uiya itukan ya bilang klemarklemer ...</td>\n",
       "      <td>jokowi bem uiya itu ya bilang klemarklemer ngo...</td>\n",
       "    </tr>\n",
       "    <tr>\n",
       "      <th>97</th>\n",
       "      <td>@mulanbilqis @agussusilo7562 @RamliRizal Makan...</td>\n",
       "      <td>makan itu bobot akedemis mu itu jokowi suks...</td>\n",
       "      <td>makan bobot akedemis mu jokowi sukses jd presi...</td>\n",
       "      <td>makan bobot akedemis mu jokowi sukses jd presi...</td>\n",
       "    </tr>\n",
       "    <tr>\n",
       "      <th>98</th>\n",
       "      <td>@kurawa @KemenegBUMN @jokowi iki piye Pak? @er...</td>\n",
       "      <td>iki piye pak   kok bisa pak</td>\n",
       "      <td>iki piye</td>\n",
       "      <td>iki piye</td>\n",
       "    </tr>\n",
       "    <tr>\n",
       "      <th>99</th>\n",
       "      <td>@robert868686 @OssyDermawan @ProfYLH @SBYudhoy...</td>\n",
       "      <td>yg skrg malah lalak lolok mencla mencle p...</td>\n",
       "      <td>yg skrg lalak lolok mencla mencle plangak plongok</td>\n",
       "      <td>yg skrg lalak lolok mencla mencle plangak plongok</td>\n",
       "    </tr>\n",
       "  </tbody>\n",
       "</table>\n",
       "<p>100 rows × 4 columns</p>\n",
       "</div>"
      ],
      "text/plain": [
       "                                              content  ...                                             clean3\n",
       "0   @ChomZdelaRoCa Mantap, pak Jokowi mundurlah de...  ...  mantap jokowi mundur bijak kawal pulang solo d...\n",
       "1   Jokowi: Universitas Tidak Perlu Menghalangi Ma...  ...  jokowi universitas halang mahasiswa ekspres be...\n",
       "2   @logic_editor Jokowi Pemimpin Asia\\nJokowi Pel...  ...  jokowi pimpin asiajokowi lindung asiajokowi ca...\n",
       "3   @Mugundi @VIVAcoid @bemkmipb mahasiswa jaman j...  ...  mahasiswa jaman jokowi udah ngga garang takut ...\n",
       "4               @tunggul_edward @dzulfian @jokowi 🤣🤣🤣  ...                                                   \n",
       "..                                                ...  ...                                                ...\n",
       "95  @metimecoffee @KontraS @MCAOps @KPK_RI @jokowi...  ...                                              jujur\n",
       "96  JOKOWI JAWAB BEM UI:\\n\\n\"Ya, Itukan sudah seja...  ...  jokowi bem uiya itu ya bilang klemarklemer ngo...\n",
       "97  @mulanbilqis @agussusilo7562 @RamliRizal Makan...  ...  makan bobot akedemis mu jokowi sukses jd presi...\n",
       "98  @kurawa @KemenegBUMN @jokowi iki piye Pak? @er...  ...                                           iki piye\n",
       "99  @robert868686 @OssyDermawan @ProfYLH @SBYudhoy...  ...  yg skrg lalak lolok mencla mencle plangak plongok\n",
       "\n",
       "[100 rows x 4 columns]"
      ]
     },
     "execution_count": 111,
     "metadata": {
      "tags": []
     },
     "output_type": "execute_result"
    }
   ],
   "source": [
    "df.dropna()\n",
    "df"
   ]
  },
  {
   "cell_type": "code",
   "execution_count": 1,
   "metadata": {
    "colab": {
     "base_uri": "https://localhost:8080/"
    },
    "id": "hnp14Bkl6aLm",
    "outputId": "05627430-a525-4d53-87be-52d02eaa4888"
   },
   "outputs": [
    {
     "name": "stdout",
     "output_type": "stream",
     "text": [
      "Requirement already satisfied: deep_translator in c:\\programdata\\anaconda3\\lib\\site-packages (1.4.4)\n",
      "Requirement already satisfied: requests in c:\\programdata\\anaconda3\\lib\\site-packages (from deep_translator) (2.25.1)\n",
      "Requirement already satisfied: beautifulsoup4 in c:\\programdata\\anaconda3\\lib\\site-packages (from deep_translator) (4.9.3)\n",
      "Requirement already satisfied: soupsieve>1.2 in c:\\programdata\\anaconda3\\lib\\site-packages (from beautifulsoup4->deep_translator) (2.2.1)\n",
      "Requirement already satisfied: certifi>=2017.4.17 in c:\\programdata\\anaconda3\\lib\\site-packages (from requests->deep_translator) (2020.12.5)\n",
      "Requirement already satisfied: idna<3,>=2.5 in c:\\programdata\\anaconda3\\lib\\site-packages (from requests->deep_translator) (2.10)\n",
      "Requirement already satisfied: chardet<5,>=3.0.2 in c:\\programdata\\anaconda3\\lib\\site-packages (from requests->deep_translator) (4.0.0)\n",
      "Requirement already satisfied: urllib3<1.27,>=1.21.1 in c:\\programdata\\anaconda3\\lib\\site-packages (from requests->deep_translator) (1.26.4)\n"
     ]
    }
   ],
   "source": [
    "#translate to english\n",
    "!pip install deep_translator"
   ]
  },
  {
   "cell_type": "code",
   "execution_count": null,
   "metadata": {
    "id": "FbdMlj5b7K3N"
   },
   "outputs": [],
   "source": [
    "from deep_translator import GoogleTranslator\n",
    "\n",
    "def translate(text):\n",
    "    return GoogleTranslator(source='indonesian', target='en').translate(text)\n",
    "#def hitung(text):\n",
    "#    return len(text)"
   ]
  },
  {
   "cell_type": "code",
   "execution_count": null,
   "metadata": {
    "id": "-oZVCd8r8DO5"
   },
   "outputs": [],
   "source": [
    "#df['clean_english']=pd.DataFrame(df.clean3.apply(lambda x : hitung(x)))\n",
    "#df = df.drop(df[(df.english== 0)].index)\n",
    "#df.sort_values(by=['english'])\n",
    "df['clean3'] = df['clean3'].replace([None, ''], 'jokowi')\n",
    "df['clean_english']=pd.DataFrame(df.clean3.apply(lambda x : translate(x)))"
   ]
  },
  {
   "cell_type": "code",
   "execution_count": null,
   "metadata": {
    "colab": {
     "base_uri": "https://localhost:8080/",
     "height": 589
    },
    "id": "T5hOaQs58KX0",
    "outputId": "54fd9d97-a55a-43cf-e5b1-6e91f523e12f"
   },
   "outputs": [
    {
     "data": {
      "text/html": [
       "<div>\n",
       "<style scoped>\n",
       "    .dataframe tbody tr th:only-of-type {\n",
       "        vertical-align: middle;\n",
       "    }\n",
       "\n",
       "    .dataframe tbody tr th {\n",
       "        vertical-align: top;\n",
       "    }\n",
       "\n",
       "    .dataframe thead th {\n",
       "        text-align: right;\n",
       "    }\n",
       "</style>\n",
       "<table border=\"1\" class=\"dataframe\">\n",
       "  <thead>\n",
       "    <tr style=\"text-align: right;\">\n",
       "      <th></th>\n",
       "      <th>content</th>\n",
       "      <th>clean1</th>\n",
       "      <th>clean2</th>\n",
       "      <th>clean3</th>\n",
       "      <th>clean_english</th>\n",
       "    </tr>\n",
       "  </thead>\n",
       "  <tbody>\n",
       "    <tr>\n",
       "      <th>0</th>\n",
       "      <td>@ChomZdelaRoCa Mantap, pak Jokowi mundurlah de...</td>\n",
       "      <td>mantap pak jokowi mundurlah dengan bijak dan ...</td>\n",
       "      <td>mantap jokowi mundurlah bijak kawal pulang sol...</td>\n",
       "      <td>mantap jokowi mundur bijak kawal pulang solo d...</td>\n",
       "      <td>Steady Jokowi Retreating Wisdom Kawal Returns ...</td>\n",
       "    </tr>\n",
       "    <tr>\n",
       "      <th>1</th>\n",
       "      <td>Jokowi: Universitas Tidak Perlu Menghalangi Ma...</td>\n",
       "      <td>jokowi universitas tidak perlu menghalangi mah...</td>\n",
       "      <td>jokowi universitas menghalangi mahasiswa berek...</td>\n",
       "      <td>jokowi universitas halang mahasiswa ekspres be...</td>\n",
       "      <td>Jokowi University of Halang Student Express Be...</td>\n",
       "    </tr>\n",
       "    <tr>\n",
       "      <th>2</th>\n",
       "      <td>@logic_editor Jokowi Pemimpin Asia\\nJokowi Pel...</td>\n",
       "      <td>jokowi pemimpin asiajokowi pelindung asiajoko...</td>\n",
       "      <td>jokowi pemimpin asiajokowi pelindung asiajokow...</td>\n",
       "      <td>jokowi pimpin asiajokowi lindung asiajokowi ca...</td>\n",
       "      <td>Jokowi Leads Asajokowi Protected Asian Light A...</td>\n",
       "    </tr>\n",
       "    <tr>\n",
       "      <th>3</th>\n",
       "      <td>@Mugundi @VIVAcoid @bemkmipb mahasiswa jaman j...</td>\n",
       "      <td>mahasiswa jaman jokowi udah ngga segarang d...</td>\n",
       "      <td>mahasiswa jaman jokowi udah ngga segarang taku...</td>\n",
       "      <td>mahasiswa jaman jokowi udah ngga garang takut ...</td>\n",
       "      <td>Jokowi's era students have not fierce fear of ...</td>\n",
       "    </tr>\n",
       "    <tr>\n",
       "      <th>4</th>\n",
       "      <td>@tunggul_edward @dzulfian @jokowi 🤣🤣🤣</td>\n",
       "      <td>🤣🤣🤣</td>\n",
       "      <td>🤣🤣🤣</td>\n",
       "      <td></td>\n",
       "      <td></td>\n",
       "    </tr>\n",
       "    <tr>\n",
       "      <th>...</th>\n",
       "      <td>...</td>\n",
       "      <td>...</td>\n",
       "      <td>...</td>\n",
       "      <td>...</td>\n",
       "      <td>...</td>\n",
       "    </tr>\n",
       "    <tr>\n",
       "      <th>95</th>\n",
       "      <td>@metimecoffee @KontraS @MCAOps @KPK_RI @jokowi...</td>\n",
       "      <td>siapa yang jujur</td>\n",
       "      <td>jujur</td>\n",
       "      <td>jujur</td>\n",
       "      <td>honest</td>\n",
       "    </tr>\n",
       "    <tr>\n",
       "      <th>96</th>\n",
       "      <td>JOKOWI JAWAB BEM UI:\\n\\n\"Ya, Itukan sudah seja...</td>\n",
       "      <td>jokowi jawab bem uiya itukan sudah sejak lama ...</td>\n",
       "      <td>jokowi bem uiya itukan ya bilang klemarklemer ...</td>\n",
       "      <td>jokowi bem uiya itu ya bilang klemarklemer ngo...</td>\n",
       "      <td>Jokowi BEM UIYA YES SAY KLEMARKLEMER BIPANG TH...</td>\n",
       "    </tr>\n",
       "    <tr>\n",
       "      <th>97</th>\n",
       "      <td>@mulanbilqis @agussusilo7562 @RamliRizal Makan...</td>\n",
       "      <td>makan itu bobot akedemis mu itu jokowi suks...</td>\n",
       "      <td>makan bobot akedemis mu jokowi sukses jd presi...</td>\n",
       "      <td>makan bobot akedemis mu jokowi sukses jd presi...</td>\n",
       "      <td>eat your academic weight Jokowi successfully b...</td>\n",
       "    </tr>\n",
       "    <tr>\n",
       "      <th>98</th>\n",
       "      <td>@kurawa @KemenegBUMN @jokowi iki piye Pak? @er...</td>\n",
       "      <td>iki piye pak   kok bisa pak</td>\n",
       "      <td>iki piye</td>\n",
       "      <td>iki piye</td>\n",
       "      <td>this is somehow</td>\n",
       "    </tr>\n",
       "    <tr>\n",
       "      <th>99</th>\n",
       "      <td>@robert868686 @OssyDermawan @ProfYLH @SBYudhoy...</td>\n",
       "      <td>yg skrg malah lalak lolok mencla mencle p...</td>\n",
       "      <td>yg skrg lalak lolok mencla mencle plangak plongok</td>\n",
       "      <td>yg skrg lalak lolok mencla mencle plangak plongok</td>\n",
       "      <td>Wrong Skrg Control Mencla Plangak Mencla Congok</td>\n",
       "    </tr>\n",
       "  </tbody>\n",
       "</table>\n",
       "<p>100 rows × 5 columns</p>\n",
       "</div>"
      ],
      "text/plain": [
       "                                              content  ...                                      clean_english\n",
       "0   @ChomZdelaRoCa Mantap, pak Jokowi mundurlah de...  ...  Steady Jokowi Retreating Wisdom Kawal Returns ...\n",
       "1   Jokowi: Universitas Tidak Perlu Menghalangi Ma...  ...  Jokowi University of Halang Student Express Be...\n",
       "2   @logic_editor Jokowi Pemimpin Asia\\nJokowi Pel...  ...  Jokowi Leads Asajokowi Protected Asian Light A...\n",
       "3   @Mugundi @VIVAcoid @bemkmipb mahasiswa jaman j...  ...  Jokowi's era students have not fierce fear of ...\n",
       "4               @tunggul_edward @dzulfian @jokowi 🤣🤣🤣  ...                                                   \n",
       "..                                                ...  ...                                                ...\n",
       "95  @metimecoffee @KontraS @MCAOps @KPK_RI @jokowi...  ...                                            honest \n",
       "96  JOKOWI JAWAB BEM UI:\\n\\n\"Ya, Itukan sudah seja...  ...  Jokowi BEM UIYA YES SAY KLEMARKLEMER BIPANG TH...\n",
       "97  @mulanbilqis @agussusilo7562 @RamliRizal Makan...  ...  eat your academic weight Jokowi successfully b...\n",
       "98  @kurawa @KemenegBUMN @jokowi iki piye Pak? @er...  ...                                   this is somehow \n",
       "99  @robert868686 @OssyDermawan @ProfYLH @SBYudhoy...  ...   Wrong Skrg Control Mencla Plangak Mencla Congok \n",
       "\n",
       "[100 rows x 5 columns]"
      ]
     },
     "execution_count": 119,
     "metadata": {
      "tags": []
     },
     "output_type": "execute_result"
    }
   ],
   "source": [
    "df"
   ]
  },
  {
   "cell_type": "code",
   "execution_count": null,
   "metadata": {
    "id": "x37f_WEH8QTc"
   },
   "outputs": [],
   "source": [
    "df.to_csv('/content/drive/MyDrive/Colab_Notebooks/FinalProject_MiniBootcamp_BisaAI/dataset_jokowi_clean_english.csv',index=None)"
   ]
  },
  {
   "cell_type": "code",
   "execution_count": null,
   "metadata": {
    "colab": {
     "base_uri": "https://localhost:8080/",
     "height": 589
    },
    "id": "CaM6jxfHRKv1",
    "outputId": "577163fb-4d58-462e-c6f2-06e99d88e4e2"
   },
   "outputs": [
    {
     "data": {
      "text/html": [
       "<div>\n",
       "<style scoped>\n",
       "    .dataframe tbody tr th:only-of-type {\n",
       "        vertical-align: middle;\n",
       "    }\n",
       "\n",
       "    .dataframe tbody tr th {\n",
       "        vertical-align: top;\n",
       "    }\n",
       "\n",
       "    .dataframe thead th {\n",
       "        text-align: right;\n",
       "    }\n",
       "</style>\n",
       "<table border=\"1\" class=\"dataframe\">\n",
       "  <thead>\n",
       "    <tr style=\"text-align: right;\">\n",
       "      <th></th>\n",
       "      <th>content</th>\n",
       "      <th>clean1</th>\n",
       "      <th>clean2</th>\n",
       "      <th>clean3</th>\n",
       "      <th>clean_english</th>\n",
       "    </tr>\n",
       "  </thead>\n",
       "  <tbody>\n",
       "    <tr>\n",
       "      <th>0</th>\n",
       "      <td>@ChomZdelaRoCa Mantap, pak Jokowi mundurlah de...</td>\n",
       "      <td>mantap pak jokowi mundurlah dengan bijak dan ...</td>\n",
       "      <td>mantap jokowi mundurlah bijak kawal pulang sol...</td>\n",
       "      <td>mantap jokowi mundur bijak kawal pulang solo d...</td>\n",
       "      <td>Steady Jokowi Retreating Wisdom Kawal Returns ...</td>\n",
       "    </tr>\n",
       "    <tr>\n",
       "      <th>1</th>\n",
       "      <td>Jokowi: Universitas Tidak Perlu Menghalangi Ma...</td>\n",
       "      <td>jokowi universitas tidak perlu menghalangi mah...</td>\n",
       "      <td>jokowi universitas menghalangi mahasiswa berek...</td>\n",
       "      <td>jokowi universitas halang mahasiswa ekspres be...</td>\n",
       "      <td>Jokowi University of Halang Student Express Be...</td>\n",
       "    </tr>\n",
       "    <tr>\n",
       "      <th>2</th>\n",
       "      <td>@logic_editor Jokowi Pemimpin Asia\\nJokowi Pel...</td>\n",
       "      <td>jokowi pemimpin asiajokowi pelindung asiajoko...</td>\n",
       "      <td>jokowi pemimpin asiajokowi pelindung asiajokow...</td>\n",
       "      <td>jokowi pimpin asiajokowi lindung asiajokowi ca...</td>\n",
       "      <td>Jokowi Leads Asajokowi Protected Asian Light A...</td>\n",
       "    </tr>\n",
       "    <tr>\n",
       "      <th>3</th>\n",
       "      <td>@Mugundi @VIVAcoid @bemkmipb mahasiswa jaman j...</td>\n",
       "      <td>mahasiswa jaman jokowi udah ngga segarang d...</td>\n",
       "      <td>mahasiswa jaman jokowi udah ngga segarang taku...</td>\n",
       "      <td>mahasiswa jaman jokowi udah ngga garang takut ...</td>\n",
       "      <td>Jokowi's era students have not fierce fear of ...</td>\n",
       "    </tr>\n",
       "    <tr>\n",
       "      <th>4</th>\n",
       "      <td>@tunggul_edward @dzulfian @jokowi 🤣🤣🤣</td>\n",
       "      <td>🤣🤣🤣</td>\n",
       "      <td>🤣🤣🤣</td>\n",
       "      <td>NaN</td>\n",
       "      <td>NaN</td>\n",
       "    </tr>\n",
       "    <tr>\n",
       "      <th>...</th>\n",
       "      <td>...</td>\n",
       "      <td>...</td>\n",
       "      <td>...</td>\n",
       "      <td>...</td>\n",
       "      <td>...</td>\n",
       "    </tr>\n",
       "    <tr>\n",
       "      <th>95</th>\n",
       "      <td>@metimecoffee @KontraS @MCAOps @KPK_RI @jokowi...</td>\n",
       "      <td>siapa yang jujur</td>\n",
       "      <td>jujur</td>\n",
       "      <td>jujur</td>\n",
       "      <td>honest</td>\n",
       "    </tr>\n",
       "    <tr>\n",
       "      <th>96</th>\n",
       "      <td>JOKOWI JAWAB BEM UI:\\n\\n\"Ya, Itukan sudah seja...</td>\n",
       "      <td>jokowi jawab bem uiya itukan sudah sejak lama ...</td>\n",
       "      <td>jokowi bem uiya itukan ya bilang klemarklemer ...</td>\n",
       "      <td>jokowi bem uiya itu ya bilang klemarklemer ngo...</td>\n",
       "      <td>Jokowi BEM UIYA YES SAY KLEMARKLEMER BIPANG TH...</td>\n",
       "    </tr>\n",
       "    <tr>\n",
       "      <th>97</th>\n",
       "      <td>@mulanbilqis @agussusilo7562 @RamliRizal Makan...</td>\n",
       "      <td>makan itu bobot akedemis mu itu jokowi suks...</td>\n",
       "      <td>makan bobot akedemis mu jokowi sukses jd presi...</td>\n",
       "      <td>makan bobot akedemis mu jokowi sukses jd presi...</td>\n",
       "      <td>eat your academic weight Jokowi successfully b...</td>\n",
       "    </tr>\n",
       "    <tr>\n",
       "      <th>98</th>\n",
       "      <td>@kurawa @KemenegBUMN @jokowi iki piye Pak? @er...</td>\n",
       "      <td>iki piye pak   kok bisa pak</td>\n",
       "      <td>iki piye</td>\n",
       "      <td>iki piye</td>\n",
       "      <td>this is somehow</td>\n",
       "    </tr>\n",
       "    <tr>\n",
       "      <th>99</th>\n",
       "      <td>@robert868686 @OssyDermawan @ProfYLH @SBYudhoy...</td>\n",
       "      <td>yg skrg malah lalak lolok mencla mencle p...</td>\n",
       "      <td>yg skrg lalak lolok mencla mencle plangak plongok</td>\n",
       "      <td>yg skrg lalak lolok mencla mencle plangak plongok</td>\n",
       "      <td>Wrong Skrg Control Mencla Plangak Mencla Congok</td>\n",
       "    </tr>\n",
       "  </tbody>\n",
       "</table>\n",
       "<p>100 rows × 5 columns</p>\n",
       "</div>"
      ],
      "text/plain": [
       "                                              content  ...                                      clean_english\n",
       "0   @ChomZdelaRoCa Mantap, pak Jokowi mundurlah de...  ...  Steady Jokowi Retreating Wisdom Kawal Returns ...\n",
       "1   Jokowi: Universitas Tidak Perlu Menghalangi Ma...  ...  Jokowi University of Halang Student Express Be...\n",
       "2   @logic_editor Jokowi Pemimpin Asia\\nJokowi Pel...  ...  Jokowi Leads Asajokowi Protected Asian Light A...\n",
       "3   @Mugundi @VIVAcoid @bemkmipb mahasiswa jaman j...  ...  Jokowi's era students have not fierce fear of ...\n",
       "4               @tunggul_edward @dzulfian @jokowi 🤣🤣🤣  ...                                                NaN\n",
       "..                                                ...  ...                                                ...\n",
       "95  @metimecoffee @KontraS @MCAOps @KPK_RI @jokowi...  ...                                            honest \n",
       "96  JOKOWI JAWAB BEM UI:\\n\\n\"Ya, Itukan sudah seja...  ...  Jokowi BEM UIYA YES SAY KLEMARKLEMER BIPANG TH...\n",
       "97  @mulanbilqis @agussusilo7562 @RamliRizal Makan...  ...  eat your academic weight Jokowi successfully b...\n",
       "98  @kurawa @KemenegBUMN @jokowi iki piye Pak? @er...  ...                                   this is somehow \n",
       "99  @robert868686 @OssyDermawan @ProfYLH @SBYudhoy...  ...   Wrong Skrg Control Mencla Plangak Mencla Congok \n",
       "\n",
       "[100 rows x 5 columns]"
      ]
     },
     "execution_count": 121,
     "metadata": {
      "tags": []
     },
     "output_type": "execute_result"
    }
   ],
   "source": [
    "df=pd.read_csv('/content/drive/MyDrive/Colab_Notebooks/FinalProject_MiniBootcamp_BisaAI/dataset_jokowi_clean_english.csv')\n",
    "df"
   ]
  },
  {
   "cell_type": "code",
   "execution_count": null,
   "metadata": {
    "colab": {
     "base_uri": "https://localhost:8080/",
     "height": 606
    },
    "id": "CzXJjMVdTCs4",
    "outputId": "0130c158-14ee-4a5e-deed-f388e5d8c4f8"
   },
   "outputs": [
    {
     "data": {
      "text/html": [
       "<div>\n",
       "<style scoped>\n",
       "    .dataframe tbody tr th:only-of-type {\n",
       "        vertical-align: middle;\n",
       "    }\n",
       "\n",
       "    .dataframe tbody tr th {\n",
       "        vertical-align: top;\n",
       "    }\n",
       "\n",
       "    .dataframe thead th {\n",
       "        text-align: right;\n",
       "    }\n",
       "</style>\n",
       "<table border=\"1\" class=\"dataframe\">\n",
       "  <thead>\n",
       "    <tr style=\"text-align: right;\">\n",
       "      <th></th>\n",
       "      <th>content</th>\n",
       "      <th>clean1</th>\n",
       "      <th>clean2</th>\n",
       "      <th>clean3</th>\n",
       "      <th>clean_english</th>\n",
       "      <th>label</th>\n",
       "    </tr>\n",
       "  </thead>\n",
       "  <tbody>\n",
       "    <tr>\n",
       "      <th>0</th>\n",
       "      <td>@ChomZdelaRoCa Mantap, pak Jokowi mundurlah de...</td>\n",
       "      <td>mantap pak jokowi mundurlah dengan bijak dan ...</td>\n",
       "      <td>mantap jokowi mundurlah bijak kawal pulang sol...</td>\n",
       "      <td>mantap jokowi mundur bijak kawal pulang solo d...</td>\n",
       "      <td>Steady Jokowi Retreating Wisdom Kawal Returns ...</td>\n",
       "      <td>positive</td>\n",
       "    </tr>\n",
       "    <tr>\n",
       "      <th>1</th>\n",
       "      <td>Jokowi: Universitas Tidak Perlu Menghalangi Ma...</td>\n",
       "      <td>jokowi universitas tidak perlu menghalangi mah...</td>\n",
       "      <td>jokowi universitas menghalangi mahasiswa berek...</td>\n",
       "      <td>jokowi universitas halang mahasiswa ekspres be...</td>\n",
       "      <td>Jokowi University of Halang Student Express Be...</td>\n",
       "      <td>neutral</td>\n",
       "    </tr>\n",
       "    <tr>\n",
       "      <th>2</th>\n",
       "      <td>@logic_editor Jokowi Pemimpin Asia\\nJokowi Pel...</td>\n",
       "      <td>jokowi pemimpin asiajokowi pelindung asiajoko...</td>\n",
       "      <td>jokowi pemimpin asiajokowi pelindung asiajokow...</td>\n",
       "      <td>jokowi pimpin asiajokowi lindung asiajokowi ca...</td>\n",
       "      <td>Jokowi Leads Asajokowi Protected Asian Light A...</td>\n",
       "      <td>positive</td>\n",
       "    </tr>\n",
       "    <tr>\n",
       "      <th>3</th>\n",
       "      <td>@Mugundi @VIVAcoid @bemkmipb mahasiswa jaman j...</td>\n",
       "      <td>mahasiswa jaman jokowi udah ngga segarang d...</td>\n",
       "      <td>mahasiswa jaman jokowi udah ngga segarang taku...</td>\n",
       "      <td>mahasiswa jaman jokowi udah ngga garang takut ...</td>\n",
       "      <td>Jokowi's era students have not fierce fear of ...</td>\n",
       "      <td>positive</td>\n",
       "    </tr>\n",
       "    <tr>\n",
       "      <th>4</th>\n",
       "      <td>@tunggul_edward @dzulfian @jokowi 🤣🤣🤣</td>\n",
       "      <td>🤣🤣🤣</td>\n",
       "      <td>🤣🤣🤣</td>\n",
       "      <td>NaN</td>\n",
       "      <td>NaN</td>\n",
       "      <td>neutral</td>\n",
       "    </tr>\n",
       "    <tr>\n",
       "      <th>...</th>\n",
       "      <td>...</td>\n",
       "      <td>...</td>\n",
       "      <td>...</td>\n",
       "      <td>...</td>\n",
       "      <td>...</td>\n",
       "      <td>...</td>\n",
       "    </tr>\n",
       "    <tr>\n",
       "      <th>95</th>\n",
       "      <td>@metimecoffee @KontraS @MCAOps @KPK_RI @jokowi...</td>\n",
       "      <td>siapa yang jujur</td>\n",
       "      <td>jujur</td>\n",
       "      <td>jujur</td>\n",
       "      <td>honest</td>\n",
       "      <td>positive</td>\n",
       "    </tr>\n",
       "    <tr>\n",
       "      <th>96</th>\n",
       "      <td>JOKOWI JAWAB BEM UI:\\n\\n\"Ya, Itukan sudah seja...</td>\n",
       "      <td>jokowi jawab bem uiya itukan sudah sejak lama ...</td>\n",
       "      <td>jokowi bem uiya itukan ya bilang klemarklemer ...</td>\n",
       "      <td>jokowi bem uiya itu ya bilang klemarklemer ngo...</td>\n",
       "      <td>Jokowi BEM UIYA YES SAY KLEMARKLEMER BIPANG TH...</td>\n",
       "      <td>neutral</td>\n",
       "    </tr>\n",
       "    <tr>\n",
       "      <th>97</th>\n",
       "      <td>@mulanbilqis @agussusilo7562 @RamliRizal Makan...</td>\n",
       "      <td>makan itu bobot akedemis mu itu jokowi suks...</td>\n",
       "      <td>makan bobot akedemis mu jokowi sukses jd presi...</td>\n",
       "      <td>makan bobot akedemis mu jokowi sukses jd presi...</td>\n",
       "      <td>eat your academic weight Jokowi successfully b...</td>\n",
       "      <td>neutral</td>\n",
       "    </tr>\n",
       "    <tr>\n",
       "      <th>98</th>\n",
       "      <td>@kurawa @KemenegBUMN @jokowi iki piye Pak? @er...</td>\n",
       "      <td>iki piye pak   kok bisa pak</td>\n",
       "      <td>iki piye</td>\n",
       "      <td>iki piye</td>\n",
       "      <td>this is somehow</td>\n",
       "      <td>positive</td>\n",
       "    </tr>\n",
       "    <tr>\n",
       "      <th>99</th>\n",
       "      <td>@robert868686 @OssyDermawan @ProfYLH @SBYudhoy...</td>\n",
       "      <td>yg skrg malah lalak lolok mencla mencle p...</td>\n",
       "      <td>yg skrg lalak lolok mencla mencle plangak plongok</td>\n",
       "      <td>yg skrg lalak lolok mencla mencle plangak plongok</td>\n",
       "      <td>Wrong Skrg Control Mencla Plangak Mencla Congok</td>\n",
       "      <td>negative</td>\n",
       "    </tr>\n",
       "  </tbody>\n",
       "</table>\n",
       "<p>100 rows × 6 columns</p>\n",
       "</div>"
      ],
      "text/plain": [
       "                                              content  ...     label\n",
       "0   @ChomZdelaRoCa Mantap, pak Jokowi mundurlah de...  ...  positive\n",
       "1   Jokowi: Universitas Tidak Perlu Menghalangi Ma...  ...   neutral\n",
       "2   @logic_editor Jokowi Pemimpin Asia\\nJokowi Pel...  ...  positive\n",
       "3   @Mugundi @VIVAcoid @bemkmipb mahasiswa jaman j...  ...  positive\n",
       "4               @tunggul_edward @dzulfian @jokowi 🤣🤣🤣  ...   neutral\n",
       "..                                                ...  ...       ...\n",
       "95  @metimecoffee @KontraS @MCAOps @KPK_RI @jokowi...  ...  positive\n",
       "96  JOKOWI JAWAB BEM UI:\\n\\n\"Ya, Itukan sudah seja...  ...   neutral\n",
       "97  @mulanbilqis @agussusilo7562 @RamliRizal Makan...  ...   neutral\n",
       "98  @kurawa @KemenegBUMN @jokowi iki piye Pak? @er...  ...  positive\n",
       "99  @robert868686 @OssyDermawan @ProfYLH @SBYudhoy...  ...  negative\n",
       "\n",
       "[100 rows x 6 columns]"
      ]
     },
     "execution_count": 123,
     "metadata": {
      "tags": []
     },
     "output_type": "execute_result"
    }
   ],
   "source": [
    "df['label']=['positive','neutral','positive','positive','neutral','negative','neutral','negative','positive','neutral','neutral','positive','positive','negative','positive','positive','neutral','negative','negative','negative','negative','positive','negative','neutral','neutral','neutral','neutral','positive','negative','neutral','negative','neutral','negative','negative','positive','negative','negative','neutral','neutral','negative','neutral','positive','neutral','neutral','positive','negative','neutral','positive','neutral','negative','positive','positive','negative','neutral','positive','positive','negative','neutral','negative','positive','negative','positive','neutral','negative','negative','neutral','positive','neutral','neutral','positive','neutral','neutral','positive','neutral','negative','positive','positive','neutral','negative','positive','positive','positive','positive','negative','neutral','negative','negative','neutral','positive','negative','neutral','neutral','positive','neutral','negative','positive','neutral','neutral','positive','negative']\n",
    "df"
   ]
  },
  {
   "cell_type": "code",
   "execution_count": null,
   "metadata": {
    "id": "ZY5kgBXsTwDj"
   },
   "outputs": [],
   "source": [
    "df.to_csv('/content/drive/MyDrive/Colab_Notebooks/FinalProject_MiniBootcamp_BisaAI/dataset_jokowi_label.csv',index=None)"
   ]
  },
  {
   "cell_type": "markdown",
   "metadata": {
    "id": "xtTWjkmoh5NF"
   },
   "source": [
    "# **Modelling with unsupervised learning & Visualization**"
   ]
  },
  {
   "cell_type": "code",
   "execution_count": null,
   "metadata": {
    "id": "syuY_4REUNUt"
   },
   "outputs": [],
   "source": [
    "#modelling with textblob\n",
    "from textblob import TextBlob"
   ]
  },
  {
   "cell_type": "code",
   "execution_count": null,
   "metadata": {
    "id": "OB6TK4LIidVc"
   },
   "outputs": [],
   "source": [
    "df['clean_english'] = df['clean_english'].astype('str')\n",
    "def get_polarity(text):\n",
    "  return TextBlob(text).sentiment.polarity"
   ]
  },
  {
   "cell_type": "code",
   "execution_count": null,
   "metadata": {
    "colab": {
     "base_uri": "https://localhost:8080/",
     "height": 691
    },
    "id": "1Y0ImuxUigow",
    "outputId": "81e4c03c-6089-440f-914d-fabf1b6ed480"
   },
   "outputs": [
    {
     "data": {
      "text/html": [
       "<div>\n",
       "<style scoped>\n",
       "    .dataframe tbody tr th:only-of-type {\n",
       "        vertical-align: middle;\n",
       "    }\n",
       "\n",
       "    .dataframe tbody tr th {\n",
       "        vertical-align: top;\n",
       "    }\n",
       "\n",
       "    .dataframe thead th {\n",
       "        text-align: right;\n",
       "    }\n",
       "</style>\n",
       "<table border=\"1\" class=\"dataframe\">\n",
       "  <thead>\n",
       "    <tr style=\"text-align: right;\">\n",
       "      <th></th>\n",
       "      <th>content</th>\n",
       "      <th>clean1</th>\n",
       "      <th>clean2</th>\n",
       "      <th>clean3</th>\n",
       "      <th>clean_english</th>\n",
       "      <th>label</th>\n",
       "      <th>polarity</th>\n",
       "    </tr>\n",
       "  </thead>\n",
       "  <tbody>\n",
       "    <tr>\n",
       "      <th>0</th>\n",
       "      <td>@ChomZdelaRoCa Mantap, pak Jokowi mundurlah de...</td>\n",
       "      <td>mantap pak jokowi mundurlah dengan bijak dan ...</td>\n",
       "      <td>mantap jokowi mundurlah bijak kawal pulang sol...</td>\n",
       "      <td>mantap jokowi mundur bijak kawal pulang solo d...</td>\n",
       "      <td>Steady Jokowi Retreating Wisdom Kawal Returns ...</td>\n",
       "      <td>positive</td>\n",
       "      <td>0.166667</td>\n",
       "    </tr>\n",
       "    <tr>\n",
       "      <th>1</th>\n",
       "      <td>Jokowi: Universitas Tidak Perlu Menghalangi Ma...</td>\n",
       "      <td>jokowi universitas tidak perlu menghalangi mah...</td>\n",
       "      <td>jokowi universitas menghalangi mahasiswa berek...</td>\n",
       "      <td>jokowi universitas halang mahasiswa ekspres be...</td>\n",
       "      <td>Jokowi University of Halang Student Express Be...</td>\n",
       "      <td>neutral</td>\n",
       "      <td>0.000000</td>\n",
       "    </tr>\n",
       "    <tr>\n",
       "      <th>2</th>\n",
       "      <td>@logic_editor Jokowi Pemimpin Asia\\nJokowi Pel...</td>\n",
       "      <td>jokowi pemimpin asiajokowi pelindung asiajoko...</td>\n",
       "      <td>jokowi pemimpin asiajokowi pelindung asiajokow...</td>\n",
       "      <td>jokowi pimpin asiajokowi lindung asiajokowi ca...</td>\n",
       "      <td>Jokowi Leads Asajokowi Protected Asian Light A...</td>\n",
       "      <td>positive</td>\n",
       "      <td>0.200000</td>\n",
       "    </tr>\n",
       "    <tr>\n",
       "      <th>3</th>\n",
       "      <td>@Mugundi @VIVAcoid @bemkmipb mahasiswa jaman j...</td>\n",
       "      <td>mahasiswa jaman jokowi udah ngga segarang d...</td>\n",
       "      <td>mahasiswa jaman jokowi udah ngga segarang taku...</td>\n",
       "      <td>mahasiswa jaman jokowi udah ngga garang takut ...</td>\n",
       "      <td>Jokowi's era students have not fierce fear of ...</td>\n",
       "      <td>positive</td>\n",
       "      <td>0.000000</td>\n",
       "    </tr>\n",
       "    <tr>\n",
       "      <th>4</th>\n",
       "      <td>@tunggul_edward @dzulfian @jokowi 🤣🤣🤣</td>\n",
       "      <td>🤣🤣🤣</td>\n",
       "      <td>🤣🤣🤣</td>\n",
       "      <td>NaN</td>\n",
       "      <td>nan</td>\n",
       "      <td>neutral</td>\n",
       "      <td>0.000000</td>\n",
       "    </tr>\n",
       "    <tr>\n",
       "      <th>...</th>\n",
       "      <td>...</td>\n",
       "      <td>...</td>\n",
       "      <td>...</td>\n",
       "      <td>...</td>\n",
       "      <td>...</td>\n",
       "      <td>...</td>\n",
       "      <td>...</td>\n",
       "    </tr>\n",
       "    <tr>\n",
       "      <th>95</th>\n",
       "      <td>@metimecoffee @KontraS @MCAOps @KPK_RI @jokowi...</td>\n",
       "      <td>siapa yang jujur</td>\n",
       "      <td>jujur</td>\n",
       "      <td>jujur</td>\n",
       "      <td>honest</td>\n",
       "      <td>positive</td>\n",
       "      <td>0.600000</td>\n",
       "    </tr>\n",
       "    <tr>\n",
       "      <th>96</th>\n",
       "      <td>JOKOWI JAWAB BEM UI:\\n\\n\"Ya, Itukan sudah seja...</td>\n",
       "      <td>jokowi jawab bem uiya itukan sudah sejak lama ...</td>\n",
       "      <td>jokowi bem uiya itukan ya bilang klemarklemer ...</td>\n",
       "      <td>jokowi bem uiya itu ya bilang klemarklemer ngo...</td>\n",
       "      <td>Jokowi BEM UIYA YES SAY KLEMARKLEMER BIPANG TH...</td>\n",
       "      <td>neutral</td>\n",
       "      <td>0.000000</td>\n",
       "    </tr>\n",
       "    <tr>\n",
       "      <th>97</th>\n",
       "      <td>@mulanbilqis @agussusilo7562 @RamliRizal Makan...</td>\n",
       "      <td>makan itu bobot akedemis mu itu jokowi suks...</td>\n",
       "      <td>makan bobot akedemis mu jokowi sukses jd presi...</td>\n",
       "      <td>makan bobot akedemis mu jokowi sukses jd presi...</td>\n",
       "      <td>eat your academic weight Jokowi successfully b...</td>\n",
       "      <td>neutral</td>\n",
       "      <td>0.375000</td>\n",
       "    </tr>\n",
       "    <tr>\n",
       "      <th>98</th>\n",
       "      <td>@kurawa @KemenegBUMN @jokowi iki piye Pak? @er...</td>\n",
       "      <td>iki piye pak   kok bisa pak</td>\n",
       "      <td>iki piye</td>\n",
       "      <td>iki piye</td>\n",
       "      <td>this is somehow</td>\n",
       "      <td>positive</td>\n",
       "      <td>0.000000</td>\n",
       "    </tr>\n",
       "    <tr>\n",
       "      <th>99</th>\n",
       "      <td>@robert868686 @OssyDermawan @ProfYLH @SBYudhoy...</td>\n",
       "      <td>yg skrg malah lalak lolok mencla mencle p...</td>\n",
       "      <td>yg skrg lalak lolok mencla mencle plangak plongok</td>\n",
       "      <td>yg skrg lalak lolok mencla mencle plangak plongok</td>\n",
       "      <td>Wrong Skrg Control Mencla Plangak Mencla Congok</td>\n",
       "      <td>negative</td>\n",
       "      <td>-0.500000</td>\n",
       "    </tr>\n",
       "  </tbody>\n",
       "</table>\n",
       "<p>100 rows × 7 columns</p>\n",
       "</div>"
      ],
      "text/plain": [
       "                                              content  ...  polarity\n",
       "0   @ChomZdelaRoCa Mantap, pak Jokowi mundurlah de...  ...  0.166667\n",
       "1   Jokowi: Universitas Tidak Perlu Menghalangi Ma...  ...  0.000000\n",
       "2   @logic_editor Jokowi Pemimpin Asia\\nJokowi Pel...  ...  0.200000\n",
       "3   @Mugundi @VIVAcoid @bemkmipb mahasiswa jaman j...  ...  0.000000\n",
       "4               @tunggul_edward @dzulfian @jokowi 🤣🤣🤣  ...  0.000000\n",
       "..                                                ...  ...       ...\n",
       "95  @metimecoffee @KontraS @MCAOps @KPK_RI @jokowi...  ...  0.600000\n",
       "96  JOKOWI JAWAB BEM UI:\\n\\n\"Ya, Itukan sudah seja...  ...  0.000000\n",
       "97  @mulanbilqis @agussusilo7562 @RamliRizal Makan...  ...  0.375000\n",
       "98  @kurawa @KemenegBUMN @jokowi iki piye Pak? @er...  ...  0.000000\n",
       "99  @robert868686 @OssyDermawan @ProfYLH @SBYudhoy...  ... -0.500000\n",
       "\n",
       "[100 rows x 7 columns]"
      ]
     },
     "execution_count": 127,
     "metadata": {
      "tags": []
     },
     "output_type": "execute_result"
    }
   ],
   "source": [
    "df['polarity'] = df['clean_english'].apply(get_polarity)\n",
    "df"
   ]
  },
  {
   "cell_type": "code",
   "execution_count": null,
   "metadata": {
    "colab": {
     "base_uri": "https://localhost:8080/",
     "height": 708
    },
    "id": "TH-BfBxBik_f",
    "outputId": "2c494bb6-df8d-4156-e122-a327d5ca8170"
   },
   "outputs": [
    {
     "data": {
      "text/html": [
       "<div>\n",
       "<style scoped>\n",
       "    .dataframe tbody tr th:only-of-type {\n",
       "        vertical-align: middle;\n",
       "    }\n",
       "\n",
       "    .dataframe tbody tr th {\n",
       "        vertical-align: top;\n",
       "    }\n",
       "\n",
       "    .dataframe thead th {\n",
       "        text-align: right;\n",
       "    }\n",
       "</style>\n",
       "<table border=\"1\" class=\"dataframe\">\n",
       "  <thead>\n",
       "    <tr style=\"text-align: right;\">\n",
       "      <th></th>\n",
       "      <th>content</th>\n",
       "      <th>clean1</th>\n",
       "      <th>clean2</th>\n",
       "      <th>clean3</th>\n",
       "      <th>clean_english</th>\n",
       "      <th>label</th>\n",
       "      <th>polarity</th>\n",
       "      <th>sentimen_textblob</th>\n",
       "    </tr>\n",
       "  </thead>\n",
       "  <tbody>\n",
       "    <tr>\n",
       "      <th>0</th>\n",
       "      <td>@ChomZdelaRoCa Mantap, pak Jokowi mundurlah de...</td>\n",
       "      <td>mantap pak jokowi mundurlah dengan bijak dan ...</td>\n",
       "      <td>mantap jokowi mundurlah bijak kawal pulang sol...</td>\n",
       "      <td>mantap jokowi mundur bijak kawal pulang solo d...</td>\n",
       "      <td>Steady Jokowi Retreating Wisdom Kawal Returns ...</td>\n",
       "      <td>positive</td>\n",
       "      <td>0.166667</td>\n",
       "      <td>positive</td>\n",
       "    </tr>\n",
       "    <tr>\n",
       "      <th>1</th>\n",
       "      <td>Jokowi: Universitas Tidak Perlu Menghalangi Ma...</td>\n",
       "      <td>jokowi universitas tidak perlu menghalangi mah...</td>\n",
       "      <td>jokowi universitas menghalangi mahasiswa berek...</td>\n",
       "      <td>jokowi universitas halang mahasiswa ekspres be...</td>\n",
       "      <td>Jokowi University of Halang Student Express Be...</td>\n",
       "      <td>neutral</td>\n",
       "      <td>0.000000</td>\n",
       "      <td>neutral</td>\n",
       "    </tr>\n",
       "    <tr>\n",
       "      <th>2</th>\n",
       "      <td>@logic_editor Jokowi Pemimpin Asia\\nJokowi Pel...</td>\n",
       "      <td>jokowi pemimpin asiajokowi pelindung asiajoko...</td>\n",
       "      <td>jokowi pemimpin asiajokowi pelindung asiajokow...</td>\n",
       "      <td>jokowi pimpin asiajokowi lindung asiajokowi ca...</td>\n",
       "      <td>Jokowi Leads Asajokowi Protected Asian Light A...</td>\n",
       "      <td>positive</td>\n",
       "      <td>0.200000</td>\n",
       "      <td>positive</td>\n",
       "    </tr>\n",
       "    <tr>\n",
       "      <th>3</th>\n",
       "      <td>@Mugundi @VIVAcoid @bemkmipb mahasiswa jaman j...</td>\n",
       "      <td>mahasiswa jaman jokowi udah ngga segarang d...</td>\n",
       "      <td>mahasiswa jaman jokowi udah ngga segarang taku...</td>\n",
       "      <td>mahasiswa jaman jokowi udah ngga garang takut ...</td>\n",
       "      <td>Jokowi's era students have not fierce fear of ...</td>\n",
       "      <td>positive</td>\n",
       "      <td>0.000000</td>\n",
       "      <td>neutral</td>\n",
       "    </tr>\n",
       "    <tr>\n",
       "      <th>4</th>\n",
       "      <td>@tunggul_edward @dzulfian @jokowi 🤣🤣🤣</td>\n",
       "      <td>🤣🤣🤣</td>\n",
       "      <td>🤣🤣🤣</td>\n",
       "      <td>NaN</td>\n",
       "      <td>nan</td>\n",
       "      <td>neutral</td>\n",
       "      <td>0.000000</td>\n",
       "      <td>neutral</td>\n",
       "    </tr>\n",
       "    <tr>\n",
       "      <th>...</th>\n",
       "      <td>...</td>\n",
       "      <td>...</td>\n",
       "      <td>...</td>\n",
       "      <td>...</td>\n",
       "      <td>...</td>\n",
       "      <td>...</td>\n",
       "      <td>...</td>\n",
       "      <td>...</td>\n",
       "    </tr>\n",
       "    <tr>\n",
       "      <th>95</th>\n",
       "      <td>@metimecoffee @KontraS @MCAOps @KPK_RI @jokowi...</td>\n",
       "      <td>siapa yang jujur</td>\n",
       "      <td>jujur</td>\n",
       "      <td>jujur</td>\n",
       "      <td>honest</td>\n",
       "      <td>positive</td>\n",
       "      <td>0.600000</td>\n",
       "      <td>positive</td>\n",
       "    </tr>\n",
       "    <tr>\n",
       "      <th>96</th>\n",
       "      <td>JOKOWI JAWAB BEM UI:\\n\\n\"Ya, Itukan sudah seja...</td>\n",
       "      <td>jokowi jawab bem uiya itukan sudah sejak lama ...</td>\n",
       "      <td>jokowi bem uiya itukan ya bilang klemarklemer ...</td>\n",
       "      <td>jokowi bem uiya itu ya bilang klemarklemer ngo...</td>\n",
       "      <td>Jokowi BEM UIYA YES SAY KLEMARKLEMER BIPANG TH...</td>\n",
       "      <td>neutral</td>\n",
       "      <td>0.000000</td>\n",
       "      <td>neutral</td>\n",
       "    </tr>\n",
       "    <tr>\n",
       "      <th>97</th>\n",
       "      <td>@mulanbilqis @agussusilo7562 @RamliRizal Makan...</td>\n",
       "      <td>makan itu bobot akedemis mu itu jokowi suks...</td>\n",
       "      <td>makan bobot akedemis mu jokowi sukses jd presi...</td>\n",
       "      <td>makan bobot akedemis mu jokowi sukses jd presi...</td>\n",
       "      <td>eat your academic weight Jokowi successfully b...</td>\n",
       "      <td>neutral</td>\n",
       "      <td>0.375000</td>\n",
       "      <td>positive</td>\n",
       "    </tr>\n",
       "    <tr>\n",
       "      <th>98</th>\n",
       "      <td>@kurawa @KemenegBUMN @jokowi iki piye Pak? @er...</td>\n",
       "      <td>iki piye pak   kok bisa pak</td>\n",
       "      <td>iki piye</td>\n",
       "      <td>iki piye</td>\n",
       "      <td>this is somehow</td>\n",
       "      <td>positive</td>\n",
       "      <td>0.000000</td>\n",
       "      <td>neutral</td>\n",
       "    </tr>\n",
       "    <tr>\n",
       "      <th>99</th>\n",
       "      <td>@robert868686 @OssyDermawan @ProfYLH @SBYudhoy...</td>\n",
       "      <td>yg skrg malah lalak lolok mencla mencle p...</td>\n",
       "      <td>yg skrg lalak lolok mencla mencle plangak plongok</td>\n",
       "      <td>yg skrg lalak lolok mencla mencle plangak plongok</td>\n",
       "      <td>Wrong Skrg Control Mencla Plangak Mencla Congok</td>\n",
       "      <td>negative</td>\n",
       "      <td>-0.500000</td>\n",
       "      <td>negative</td>\n",
       "    </tr>\n",
       "  </tbody>\n",
       "</table>\n",
       "<p>100 rows × 8 columns</p>\n",
       "</div>"
      ],
      "text/plain": [
       "                                              content  ... sentimen_textblob\n",
       "0   @ChomZdelaRoCa Mantap, pak Jokowi mundurlah de...  ...          positive\n",
       "1   Jokowi: Universitas Tidak Perlu Menghalangi Ma...  ...           neutral\n",
       "2   @logic_editor Jokowi Pemimpin Asia\\nJokowi Pel...  ...          positive\n",
       "3   @Mugundi @VIVAcoid @bemkmipb mahasiswa jaman j...  ...           neutral\n",
       "4               @tunggul_edward @dzulfian @jokowi 🤣🤣🤣  ...           neutral\n",
       "..                                                ...  ...               ...\n",
       "95  @metimecoffee @KontraS @MCAOps @KPK_RI @jokowi...  ...          positive\n",
       "96  JOKOWI JAWAB BEM UI:\\n\\n\"Ya, Itukan sudah seja...  ...           neutral\n",
       "97  @mulanbilqis @agussusilo7562 @RamliRizal Makan...  ...          positive\n",
       "98  @kurawa @KemenegBUMN @jokowi iki piye Pak? @er...  ...           neutral\n",
       "99  @robert868686 @OssyDermawan @ProfYLH @SBYudhoy...  ...          negative\n",
       "\n",
       "[100 rows x 8 columns]"
      ]
     },
     "execution_count": 128,
     "metadata": {
      "tags": []
     },
     "output_type": "execute_result"
    }
   ],
   "source": [
    "df['sentimen_textblob']=''\n",
    "df.loc[df.polarity>0,'sentimen_textblob']='positive'\n",
    "df.loc[df.polarity==0,'sentimen_textblob']='neutral'\n",
    "df.loc[df.polarity<0,'sentimen_textblob']='negative'\n",
    "df"
   ]
  },
  {
   "cell_type": "code",
   "execution_count": null,
   "metadata": {
    "colab": {
     "base_uri": "https://localhost:8080/"
    },
    "id": "iRiRhsgEis3k",
    "outputId": "2b4c2810-3583-48df-fdf9-e264a70cedbf"
   },
   "outputs": [
    {
     "data": {
      "text/plain": [
       "neutral     61\n",
       "positive    27\n",
       "negative    12\n",
       "Name: sentimen_textblob, dtype: int64"
      ]
     },
     "execution_count": 72,
     "metadata": {
      "tags": []
     },
     "output_type": "execute_result"
    }
   ],
   "source": [
    "df['sentimen_textblob'].value_counts()"
   ]
  },
  {
   "cell_type": "code",
   "execution_count": null,
   "metadata": {
    "colab": {
     "base_uri": "https://localhost:8080/"
    },
    "id": "7J-ClePji4ON",
    "outputId": "78ff70a8-d691-4814-ce5d-fdefa89c00b3"
   },
   "outputs": [
    {
     "data": {
      "text/plain": [
       "neutral     36\n",
       "positive    33\n",
       "negative    31\n",
       "Name: label, dtype: int64"
      ]
     },
     "execution_count": 129,
     "metadata": {
      "tags": []
     },
     "output_type": "execute_result"
    }
   ],
   "source": [
    "df['label'].value_counts()"
   ]
  },
  {
   "cell_type": "code",
   "execution_count": null,
   "metadata": {
    "colab": {
     "base_uri": "https://localhost:8080/",
     "height": 332
    },
    "id": "zF1uJx1fi6FL",
    "outputId": "c519d2c6-6608-4af8-9c05-887d595d20a7"
   },
   "outputs": [
    {
     "data": {
      "text/plain": [
       "<matplotlib.axes._subplots.AxesSubplot at 0x7eff1f7ae890>"
      ]
     },
     "execution_count": 130,
     "metadata": {
      "tags": []
     },
     "output_type": "execute_result"
    },
    {
     "data": {
      "image/png": "[encoded data removed]",
      "text/plain": [
       "<Figure size 432x288 with 1 Axes>"
      ]
     },
     "metadata": {
      "needs_background": "light",
      "tags": []
     },
     "output_type": "display_data"
    }
   ],
   "source": [
    "df.sentimen_textblob.value_counts().plot(kind='bar',title=\"Sentiment Analysis with Textblob\")"
   ]
  },
  {
   "cell_type": "code",
   "execution_count": null,
   "metadata": {
    "colab": {
     "base_uri": "https://localhost:8080/",
     "height": 281
    },
    "id": "EJlxe3u4jHWl",
    "outputId": "638df000-7d0f-4be0-9455-9097b9ac846b"
   },
   "outputs": [
    {
     "data": {
      "text/plain": [
       "<matplotlib.axes._subplots.AxesSubplot at 0x7eff2d221050>"
      ]
     },
     "execution_count": 131,
     "metadata": {
      "tags": []
     },
     "output_type": "execute_result"
    },
    {
     "data": {
      "image/png": "[encoded data removed]",
      "text/plain": [
       "<Figure size 432x288 with 1 Axes>"
      ]
     },
     "metadata": {
      "tags": []
     },
     "output_type": "display_data"
    }
   ],
   "source": [
    "df.sentimen_textblob.value_counts().plot(kind='pie',title=\"Sentiment Analysis with Textblob\")"
   ]
  },
  {
   "cell_type": "code",
   "execution_count": null,
   "metadata": {
    "id": "OiPYwpynjOZL"
   },
   "outputs": [],
   "source": [
    "#modelling with Vader\n",
    "from nltk.sentiment.vader import SentimentIntensityAnalyzer\n",
    "from nltk.sentiment.util import *"
   ]
  },
  {
   "cell_type": "code",
   "execution_count": null,
   "metadata": {
    "colab": {
     "base_uri": "https://localhost:8080/"
    },
    "id": "8hgOGNa6jioo",
    "outputId": "5fef923d-aa73-4344-b519-8c9429b97b0b"
   },
   "outputs": [
    {
     "name": "stdout",
     "output_type": "stream",
     "text": [
      "[nltk_data] Downloading package vader_lexicon to /root/nltk_data...\n",
      "[nltk_data]   Package vader_lexicon is already up-to-date!\n"
     ]
    }
   ],
   "source": [
    "import nltk\n",
    "nltk.download('vader_lexicon')\n",
    "from nltk.sentiment.vader import SentimentIntensityAnalyzer\n",
    "sid = SentimentIntensityAnalyzer()"
   ]
  },
  {
   "cell_type": "code",
   "execution_count": null,
   "metadata": {
    "colab": {
     "base_uri": "https://localhost:8080/",
     "height": 946
    },
    "id": "6zBac7j5jm-J",
    "outputId": "0d94019d-2b43-491d-9bb9-85497bef6462"
   },
   "outputs": [
    {
     "data": {
      "text/html": [
       "<div>\n",
       "<style scoped>\n",
       "    .dataframe tbody tr th:only-of-type {\n",
       "        vertical-align: middle;\n",
       "    }\n",
       "\n",
       "    .dataframe tbody tr th {\n",
       "        vertical-align: top;\n",
       "    }\n",
       "\n",
       "    .dataframe thead th {\n",
       "        text-align: right;\n",
       "    }\n",
       "</style>\n",
       "<table border=\"1\" class=\"dataframe\">\n",
       "  <thead>\n",
       "    <tr style=\"text-align: right;\">\n",
       "      <th></th>\n",
       "      <th>content</th>\n",
       "      <th>clean1</th>\n",
       "      <th>clean2</th>\n",
       "      <th>clean3</th>\n",
       "      <th>clean_english</th>\n",
       "      <th>label</th>\n",
       "      <th>polarity</th>\n",
       "      <th>sentimen_textblob</th>\n",
       "      <th>scores</th>\n",
       "    </tr>\n",
       "  </thead>\n",
       "  <tbody>\n",
       "    <tr>\n",
       "      <th>0</th>\n",
       "      <td>@ChomZdelaRoCa Mantap, pak Jokowi mundurlah de...</td>\n",
       "      <td>mantap pak jokowi mundurlah dengan bijak dan ...</td>\n",
       "      <td>mantap jokowi mundurlah bijak kawal pulang sol...</td>\n",
       "      <td>mantap jokowi mundur bijak kawal pulang solo d...</td>\n",
       "      <td>Steady Jokowi Retreating Wisdom Kawal Returns ...</td>\n",
       "      <td>positive</td>\n",
       "      <td>0.166667</td>\n",
       "      <td>positive</td>\n",
       "      <td>{'neg': 0.0, 'neu': 0.465, 'pos': 0.535, 'comp...</td>\n",
       "    </tr>\n",
       "    <tr>\n",
       "      <th>1</th>\n",
       "      <td>Jokowi: Universitas Tidak Perlu Menghalangi Ma...</td>\n",
       "      <td>jokowi universitas tidak perlu menghalangi mah...</td>\n",
       "      <td>jokowi universitas menghalangi mahasiswa berek...</td>\n",
       "      <td>jokowi universitas halang mahasiswa ekspres be...</td>\n",
       "      <td>Jokowi University of Halang Student Express Be...</td>\n",
       "      <td>neutral</td>\n",
       "      <td>0.000000</td>\n",
       "      <td>neutral</td>\n",
       "      <td>{'neg': 0.0, 'neu': 1.0, 'pos': 0.0, 'compound...</td>\n",
       "    </tr>\n",
       "    <tr>\n",
       "      <th>2</th>\n",
       "      <td>@logic_editor Jokowi Pemimpin Asia\\nJokowi Pel...</td>\n",
       "      <td>jokowi pemimpin asiajokowi pelindung asiajoko...</td>\n",
       "      <td>jokowi pemimpin asiajokowi pelindung asiajokow...</td>\n",
       "      <td>jokowi pimpin asiajokowi lindung asiajokowi ca...</td>\n",
       "      <td>Jokowi Leads Asajokowi Protected Asian Light A...</td>\n",
       "      <td>positive</td>\n",
       "      <td>0.200000</td>\n",
       "      <td>positive</td>\n",
       "      <td>{'neg': 0.0, 'neu': 0.674, 'pos': 0.326, 'comp...</td>\n",
       "    </tr>\n",
       "    <tr>\n",
       "      <th>3</th>\n",
       "      <td>@Mugundi @VIVAcoid @bemkmipb mahasiswa jaman j...</td>\n",
       "      <td>mahasiswa jaman jokowi udah ngga segarang d...</td>\n",
       "      <td>mahasiswa jaman jokowi udah ngga segarang taku...</td>\n",
       "      <td>mahasiswa jaman jokowi udah ngga garang takut ...</td>\n",
       "      <td>Jokowi's era students have not fierce fear of ...</td>\n",
       "      <td>positive</td>\n",
       "      <td>0.000000</td>\n",
       "      <td>neutral</td>\n",
       "      <td>{'neg': 0.0, 'neu': 0.842, 'pos': 0.158, 'comp...</td>\n",
       "    </tr>\n",
       "    <tr>\n",
       "      <th>4</th>\n",
       "      <td>@tunggul_edward @dzulfian @jokowi 🤣🤣🤣</td>\n",
       "      <td>🤣🤣🤣</td>\n",
       "      <td>🤣🤣🤣</td>\n",
       "      <td>NaN</td>\n",
       "      <td>nan</td>\n",
       "      <td>neutral</td>\n",
       "      <td>0.000000</td>\n",
       "      <td>neutral</td>\n",
       "      <td>{'neg': 0.0, 'neu': 1.0, 'pos': 0.0, 'compound...</td>\n",
       "    </tr>\n",
       "    <tr>\n",
       "      <th>...</th>\n",
       "      <td>...</td>\n",
       "      <td>...</td>\n",
       "      <td>...</td>\n",
       "      <td>...</td>\n",
       "      <td>...</td>\n",
       "      <td>...</td>\n",
       "      <td>...</td>\n",
       "      <td>...</td>\n",
       "      <td>...</td>\n",
       "    </tr>\n",
       "    <tr>\n",
       "      <th>95</th>\n",
       "      <td>@metimecoffee @KontraS @MCAOps @KPK_RI @jokowi...</td>\n",
       "      <td>siapa yang jujur</td>\n",
       "      <td>jujur</td>\n",
       "      <td>jujur</td>\n",
       "      <td>honest</td>\n",
       "      <td>positive</td>\n",
       "      <td>0.600000</td>\n",
       "      <td>positive</td>\n",
       "      <td>{'neg': 0.0, 'neu': 0.0, 'pos': 1.0, 'compound...</td>\n",
       "    </tr>\n",
       "    <tr>\n",
       "      <th>96</th>\n",
       "      <td>JOKOWI JAWAB BEM UI:\\n\\n\"Ya, Itukan sudah seja...</td>\n",
       "      <td>jokowi jawab bem uiya itukan sudah sejak lama ...</td>\n",
       "      <td>jokowi bem uiya itukan ya bilang klemarklemer ...</td>\n",
       "      <td>jokowi bem uiya itu ya bilang klemarklemer ngo...</td>\n",
       "      <td>Jokowi BEM UIYA YES SAY KLEMARKLEMER BIPANG TH...</td>\n",
       "      <td>neutral</td>\n",
       "      <td>0.000000</td>\n",
       "      <td>neutral</td>\n",
       "      <td>{'neg': 0.0, 'neu': 0.778, 'pos': 0.222, 'comp...</td>\n",
       "    </tr>\n",
       "    <tr>\n",
       "      <th>97</th>\n",
       "      <td>@mulanbilqis @agussusilo7562 @RamliRizal Makan...</td>\n",
       "      <td>makan itu bobot akedemis mu itu jokowi suks...</td>\n",
       "      <td>makan bobot akedemis mu jokowi sukses jd presi...</td>\n",
       "      <td>makan bobot akedemis mu jokowi sukses jd presi...</td>\n",
       "      <td>eat your academic weight Jokowi successfully b...</td>\n",
       "      <td>neutral</td>\n",
       "      <td>0.375000</td>\n",
       "      <td>positive</td>\n",
       "      <td>{'neg': 0.0, 'neu': 0.824, 'pos': 0.176, 'comp...</td>\n",
       "    </tr>\n",
       "    <tr>\n",
       "      <th>98</th>\n",
       "      <td>@kurawa @KemenegBUMN @jokowi iki piye Pak? @er...</td>\n",
       "      <td>iki piye pak   kok bisa pak</td>\n",
       "      <td>iki piye</td>\n",
       "      <td>iki piye</td>\n",
       "      <td>this is somehow</td>\n",
       "      <td>positive</td>\n",
       "      <td>0.000000</td>\n",
       "      <td>neutral</td>\n",
       "      <td>{'neg': 0.0, 'neu': 1.0, 'pos': 0.0, 'compound...</td>\n",
       "    </tr>\n",
       "    <tr>\n",
       "      <th>99</th>\n",
       "      <td>@robert868686 @OssyDermawan @ProfYLH @SBYudhoy...</td>\n",
       "      <td>yg skrg malah lalak lolok mencla mencle p...</td>\n",
       "      <td>yg skrg lalak lolok mencla mencle plangak plongok</td>\n",
       "      <td>yg skrg lalak lolok mencla mencle plangak plongok</td>\n",
       "      <td>Wrong Skrg Control Mencla Plangak Mencla Congok</td>\n",
       "      <td>negative</td>\n",
       "      <td>-0.500000</td>\n",
       "      <td>negative</td>\n",
       "      <td>{'neg': 0.341, 'neu': 0.659, 'pos': 0.0, 'comp...</td>\n",
       "    </tr>\n",
       "  </tbody>\n",
       "</table>\n",
       "<p>100 rows × 9 columns</p>\n",
       "</div>"
      ],
      "text/plain": [
       "                                              content  ...                                             scores\n",
       "0   @ChomZdelaRoCa Mantap, pak Jokowi mundurlah de...  ...  {'neg': 0.0, 'neu': 0.465, 'pos': 0.535, 'comp...\n",
       "1   Jokowi: Universitas Tidak Perlu Menghalangi Ma...  ...  {'neg': 0.0, 'neu': 1.0, 'pos': 0.0, 'compound...\n",
       "2   @logic_editor Jokowi Pemimpin Asia\\nJokowi Pel...  ...  {'neg': 0.0, 'neu': 0.674, 'pos': 0.326, 'comp...\n",
       "3   @Mugundi @VIVAcoid @bemkmipb mahasiswa jaman j...  ...  {'neg': 0.0, 'neu': 0.842, 'pos': 0.158, 'comp...\n",
       "4               @tunggul_edward @dzulfian @jokowi 🤣🤣🤣  ...  {'neg': 0.0, 'neu': 1.0, 'pos': 0.0, 'compound...\n",
       "..                                                ...  ...                                                ...\n",
       "95  @metimecoffee @KontraS @MCAOps @KPK_RI @jokowi...  ...  {'neg': 0.0, 'neu': 0.0, 'pos': 1.0, 'compound...\n",
       "96  JOKOWI JAWAB BEM UI:\\n\\n\"Ya, Itukan sudah seja...  ...  {'neg': 0.0, 'neu': 0.778, 'pos': 0.222, 'comp...\n",
       "97  @mulanbilqis @agussusilo7562 @RamliRizal Makan...  ...  {'neg': 0.0, 'neu': 0.824, 'pos': 0.176, 'comp...\n",
       "98  @kurawa @KemenegBUMN @jokowi iki piye Pak? @er...  ...  {'neg': 0.0, 'neu': 1.0, 'pos': 0.0, 'compound...\n",
       "99  @robert868686 @OssyDermawan @ProfYLH @SBYudhoy...  ...  {'neg': 0.341, 'neu': 0.659, 'pos': 0.0, 'comp...\n",
       "\n",
       "[100 rows x 9 columns]"
      ]
     },
     "execution_count": 134,
     "metadata": {
      "tags": []
     },
     "output_type": "execute_result"
    }
   ],
   "source": [
    "df['scores'] = df['clean_english'].apply(lambda new_text: sid.polarity_scores(new_text))\n",
    "df"
   ]
  },
  {
   "cell_type": "code",
   "execution_count": null,
   "metadata": {
    "colab": {
     "base_uri": "https://localhost:8080/",
     "height": 1000
    },
    "id": "4Pv3TbWfjpMt",
    "outputId": "9fc3fae0-a110-4b1b-a413-1fb786e01af0"
   },
   "outputs": [
    {
     "data": {
      "text/html": [
       "<div>\n",
       "<style scoped>\n",
       "    .dataframe tbody tr th:only-of-type {\n",
       "        vertical-align: middle;\n",
       "    }\n",
       "\n",
       "    .dataframe tbody tr th {\n",
       "        vertical-align: top;\n",
       "    }\n",
       "\n",
       "    .dataframe thead th {\n",
       "        text-align: right;\n",
       "    }\n",
       "</style>\n",
       "<table border=\"1\" class=\"dataframe\">\n",
       "  <thead>\n",
       "    <tr style=\"text-align: right;\">\n",
       "      <th></th>\n",
       "      <th>content</th>\n",
       "      <th>clean1</th>\n",
       "      <th>clean2</th>\n",
       "      <th>clean3</th>\n",
       "      <th>clean_english</th>\n",
       "      <th>label</th>\n",
       "      <th>polarity</th>\n",
       "      <th>sentimen_textblob</th>\n",
       "      <th>scores</th>\n",
       "      <th>compound</th>\n",
       "      <th>sentimen_vader</th>\n",
       "    </tr>\n",
       "  </thead>\n",
       "  <tbody>\n",
       "    <tr>\n",
       "      <th>0</th>\n",
       "      <td>@ChomZdelaRoCa Mantap, pak Jokowi mundurlah de...</td>\n",
       "      <td>mantap pak jokowi mundurlah dengan bijak dan ...</td>\n",
       "      <td>mantap jokowi mundurlah bijak kawal pulang sol...</td>\n",
       "      <td>mantap jokowi mundur bijak kawal pulang solo d...</td>\n",
       "      <td>Steady Jokowi Retreating Wisdom Kawal Returns ...</td>\n",
       "      <td>positive</td>\n",
       "      <td>0.166667</td>\n",
       "      <td>positive</td>\n",
       "      <td>{'neg': 0.0, 'neu': 0.465, 'pos': 0.535, 'comp...</td>\n",
       "      <td>0.7845</td>\n",
       "      <td>positive</td>\n",
       "    </tr>\n",
       "    <tr>\n",
       "      <th>1</th>\n",
       "      <td>Jokowi: Universitas Tidak Perlu Menghalangi Ma...</td>\n",
       "      <td>jokowi universitas tidak perlu menghalangi mah...</td>\n",
       "      <td>jokowi universitas menghalangi mahasiswa berek...</td>\n",
       "      <td>jokowi universitas halang mahasiswa ekspres be...</td>\n",
       "      <td>Jokowi University of Halang Student Express Be...</td>\n",
       "      <td>neutral</td>\n",
       "      <td>0.000000</td>\n",
       "      <td>neutral</td>\n",
       "      <td>{'neg': 0.0, 'neu': 1.0, 'pos': 0.0, 'compound...</td>\n",
       "      <td>0.0000</td>\n",
       "      <td>neutral</td>\n",
       "    </tr>\n",
       "    <tr>\n",
       "      <th>2</th>\n",
       "      <td>@logic_editor Jokowi Pemimpin Asia\\nJokowi Pel...</td>\n",
       "      <td>jokowi pemimpin asiajokowi pelindung asiajoko...</td>\n",
       "      <td>jokowi pemimpin asiajokowi pelindung asiajokow...</td>\n",
       "      <td>jokowi pimpin asiajokowi lindung asiajokowi ca...</td>\n",
       "      <td>Jokowi Leads Asajokowi Protected Asian Light A...</td>\n",
       "      <td>positive</td>\n",
       "      <td>0.200000</td>\n",
       "      <td>positive</td>\n",
       "      <td>{'neg': 0.0, 'neu': 0.674, 'pos': 0.326, 'comp...</td>\n",
       "      <td>0.4404</td>\n",
       "      <td>positive</td>\n",
       "    </tr>\n",
       "    <tr>\n",
       "      <th>3</th>\n",
       "      <td>@Mugundi @VIVAcoid @bemkmipb mahasiswa jaman j...</td>\n",
       "      <td>mahasiswa jaman jokowi udah ngga segarang d...</td>\n",
       "      <td>mahasiswa jaman jokowi udah ngga segarang taku...</td>\n",
       "      <td>mahasiswa jaman jokowi udah ngga garang takut ...</td>\n",
       "      <td>Jokowi's era students have not fierce fear of ...</td>\n",
       "      <td>positive</td>\n",
       "      <td>0.000000</td>\n",
       "      <td>neutral</td>\n",
       "      <td>{'neg': 0.0, 'neu': 0.842, 'pos': 0.158, 'comp...</td>\n",
       "      <td>0.3875</td>\n",
       "      <td>positive</td>\n",
       "    </tr>\n",
       "    <tr>\n",
       "      <th>4</th>\n",
       "      <td>@tunggul_edward @dzulfian @jokowi 🤣🤣🤣</td>\n",
       "      <td>🤣🤣🤣</td>\n",
       "      <td>🤣🤣🤣</td>\n",
       "      <td>NaN</td>\n",
       "      <td>nan</td>\n",
       "      <td>neutral</td>\n",
       "      <td>0.000000</td>\n",
       "      <td>neutral</td>\n",
       "      <td>{'neg': 0.0, 'neu': 1.0, 'pos': 0.0, 'compound...</td>\n",
       "      <td>0.0000</td>\n",
       "      <td>neutral</td>\n",
       "    </tr>\n",
       "    <tr>\n",
       "      <th>...</th>\n",
       "      <td>...</td>\n",
       "      <td>...</td>\n",
       "      <td>...</td>\n",
       "      <td>...</td>\n",
       "      <td>...</td>\n",
       "      <td>...</td>\n",
       "      <td>...</td>\n",
       "      <td>...</td>\n",
       "      <td>...</td>\n",
       "      <td>...</td>\n",
       "      <td>...</td>\n",
       "    </tr>\n",
       "    <tr>\n",
       "      <th>95</th>\n",
       "      <td>@metimecoffee @KontraS @MCAOps @KPK_RI @jokowi...</td>\n",
       "      <td>siapa yang jujur</td>\n",
       "      <td>jujur</td>\n",
       "      <td>jujur</td>\n",
       "      <td>honest</td>\n",
       "      <td>positive</td>\n",
       "      <td>0.600000</td>\n",
       "      <td>positive</td>\n",
       "      <td>{'neg': 0.0, 'neu': 0.0, 'pos': 1.0, 'compound...</td>\n",
       "      <td>0.5106</td>\n",
       "      <td>positive</td>\n",
       "    </tr>\n",
       "    <tr>\n",
       "      <th>96</th>\n",
       "      <td>JOKOWI JAWAB BEM UI:\\n\\n\"Ya, Itukan sudah seja...</td>\n",
       "      <td>jokowi jawab bem uiya itukan sudah sejak lama ...</td>\n",
       "      <td>jokowi bem uiya itukan ya bilang klemarklemer ...</td>\n",
       "      <td>jokowi bem uiya itu ya bilang klemarklemer ngo...</td>\n",
       "      <td>Jokowi BEM UIYA YES SAY KLEMARKLEMER BIPANG TH...</td>\n",
       "      <td>neutral</td>\n",
       "      <td>0.000000</td>\n",
       "      <td>neutral</td>\n",
       "      <td>{'neg': 0.0, 'neu': 0.778, 'pos': 0.222, 'comp...</td>\n",
       "      <td>0.5319</td>\n",
       "      <td>positive</td>\n",
       "    </tr>\n",
       "    <tr>\n",
       "      <th>97</th>\n",
       "      <td>@mulanbilqis @agussusilo7562 @RamliRizal Makan...</td>\n",
       "      <td>makan itu bobot akedemis mu itu jokowi suks...</td>\n",
       "      <td>makan bobot akedemis mu jokowi sukses jd presi...</td>\n",
       "      <td>makan bobot akedemis mu jokowi sukses jd presi...</td>\n",
       "      <td>eat your academic weight Jokowi successfully b...</td>\n",
       "      <td>neutral</td>\n",
       "      <td>0.375000</td>\n",
       "      <td>positive</td>\n",
       "      <td>{'neg': 0.0, 'neu': 0.824, 'pos': 0.176, 'comp...</td>\n",
       "      <td>0.4939</td>\n",
       "      <td>positive</td>\n",
       "    </tr>\n",
       "    <tr>\n",
       "      <th>98</th>\n",
       "      <td>@kurawa @KemenegBUMN @jokowi iki piye Pak? @er...</td>\n",
       "      <td>iki piye pak   kok bisa pak</td>\n",
       "      <td>iki piye</td>\n",
       "      <td>iki piye</td>\n",
       "      <td>this is somehow</td>\n",
       "      <td>positive</td>\n",
       "      <td>0.000000</td>\n",
       "      <td>neutral</td>\n",
       "      <td>{'neg': 0.0, 'neu': 1.0, 'pos': 0.0, 'compound...</td>\n",
       "      <td>0.0000</td>\n",
       "      <td>neutral</td>\n",
       "    </tr>\n",
       "    <tr>\n",
       "      <th>99</th>\n",
       "      <td>@robert868686 @OssyDermawan @ProfYLH @SBYudhoy...</td>\n",
       "      <td>yg skrg malah lalak lolok mencla mencle p...</td>\n",
       "      <td>yg skrg lalak lolok mencla mencle plangak plongok</td>\n",
       "      <td>yg skrg lalak lolok mencla mencle plangak plongok</td>\n",
       "      <td>Wrong Skrg Control Mencla Plangak Mencla Congok</td>\n",
       "      <td>negative</td>\n",
       "      <td>-0.500000</td>\n",
       "      <td>negative</td>\n",
       "      <td>{'neg': 0.341, 'neu': 0.659, 'pos': 0.0, 'comp...</td>\n",
       "      <td>-0.4767</td>\n",
       "      <td>negative</td>\n",
       "    </tr>\n",
       "  </tbody>\n",
       "</table>\n",
       "<p>100 rows × 11 columns</p>\n",
       "</div>"
      ],
      "text/plain": [
       "                                              content  ... sentimen_vader\n",
       "0   @ChomZdelaRoCa Mantap, pak Jokowi mundurlah de...  ...       positive\n",
       "1   Jokowi: Universitas Tidak Perlu Menghalangi Ma...  ...        neutral\n",
       "2   @logic_editor Jokowi Pemimpin Asia\\nJokowi Pel...  ...       positive\n",
       "3   @Mugundi @VIVAcoid @bemkmipb mahasiswa jaman j...  ...       positive\n",
       "4               @tunggul_edward @dzulfian @jokowi 🤣🤣🤣  ...        neutral\n",
       "..                                                ...  ...            ...\n",
       "95  @metimecoffee @KontraS @MCAOps @KPK_RI @jokowi...  ...       positive\n",
       "96  JOKOWI JAWAB BEM UI:\\n\\n\"Ya, Itukan sudah seja...  ...       positive\n",
       "97  @mulanbilqis @agussusilo7562 @RamliRizal Makan...  ...       positive\n",
       "98  @kurawa @KemenegBUMN @jokowi iki piye Pak? @er...  ...        neutral\n",
       "99  @robert868686 @OssyDermawan @ProfYLH @SBYudhoy...  ...       negative\n",
       "\n",
       "[100 rows x 11 columns]"
      ]
     },
     "execution_count": 135,
     "metadata": {
      "tags": []
     },
     "output_type": "execute_result"
    }
   ],
   "source": [
    "df['compound'] = df['scores'].apply(lambda score_dict: score_dict['compound'])\n",
    "df['sentimen_vader']=''\n",
    "df.loc[df.compound>0,'sentimen_vader']='positive'\n",
    "df.loc[df.compound==0,'sentimen_vader']='neutral'\n",
    "df.loc[df.compound<0,'sentimen_vader']='negative'\n",
    "df"
   ]
  },
  {
   "cell_type": "code",
   "execution_count": null,
   "metadata": {
    "colab": {
     "base_uri": "https://localhost:8080/"
    },
    "id": "Szb5-1qBjuan",
    "outputId": "081f5a1a-d878-4255-d249-e60bcb2b8685"
   },
   "outputs": [
    {
     "data": {
      "text/plain": [
       "neutral     41\n",
       "positive    32\n",
       "negative    27\n",
       "Name: sentimen_vader, dtype: int64"
      ]
     },
     "execution_count": 137,
     "metadata": {
      "tags": []
     },
     "output_type": "execute_result"
    }
   ],
   "source": [
    "df['sentimen_vader'].value_counts()"
   ]
  },
  {
   "cell_type": "code",
   "execution_count": null,
   "metadata": {
    "colab": {
     "base_uri": "https://localhost:8080/"
    },
    "id": "fGNmJzPRj3La",
    "outputId": "b21a35f4-9ccb-4209-d0aa-21d01e83d15f"
   },
   "outputs": [
    {
     "data": {
      "text/plain": [
       "neutral     61\n",
       "positive    27\n",
       "negative    12\n",
       "Name: sentimen_textblob, dtype: int64"
      ]
     },
     "execution_count": 138,
     "metadata": {
      "tags": []
     },
     "output_type": "execute_result"
    }
   ],
   "source": [
    "df['sentimen_textblob'].value_counts()"
   ]
  },
  {
   "cell_type": "code",
   "execution_count": null,
   "metadata": {
    "colab": {
     "base_uri": "https://localhost:8080/"
    },
    "id": "3zI1jD6Ij59E",
    "outputId": "649cfe32-fe1f-45fb-c2ac-fab4baf3e280"
   },
   "outputs": [
    {
     "data": {
      "text/plain": [
       "neutral     36\n",
       "positive    33\n",
       "negative    31\n",
       "Name: label, dtype: int64"
      ]
     },
     "execution_count": 139,
     "metadata": {
      "tags": []
     },
     "output_type": "execute_result"
    }
   ],
   "source": [
    "df['label'].value_counts()"
   ]
  },
  {
   "cell_type": "code",
   "execution_count": null,
   "metadata": {
    "colab": {
     "base_uri": "https://localhost:8080/",
     "height": 332
    },
    "id": "_NIbfesjj7s4",
    "outputId": "489e5255-c1c5-4600-fe3f-b26975b5a8f8"
   },
   "outputs": [
    {
     "data": {
      "text/plain": [
       "<matplotlib.axes._subplots.AxesSubplot at 0x7eff2c8b4bd0>"
      ]
     },
     "execution_count": 140,
     "metadata": {
      "tags": []
     },
     "output_type": "execute_result"
    },
    {
     "data": {
      "image/png": "[encoded data removed]",
      "text/plain": [
       "<Figure size 432x288 with 1 Axes>"
      ]
     },
     "metadata": {
      "needs_background": "light",
      "tags": []
     },
     "output_type": "display_data"
    }
   ],
   "source": [
    "df.sentimen_vader.value_counts().plot(kind='bar',title=\"Sentiment Analysis with Vader\")"
   ]
  },
  {
   "cell_type": "code",
   "execution_count": null,
   "metadata": {
    "colab": {
     "base_uri": "https://localhost:8080/",
     "height": 281
    },
    "id": "APqlkJtHkCj0",
    "outputId": "73cefea7-cbd1-4865-f207-1b1b22c31445"
   },
   "outputs": [
    {
     "data": {
      "text/plain": [
       "<matplotlib.axes._subplots.AxesSubplot at 0x7eff2d385510>"
      ]
     },
     "execution_count": 141,
     "metadata": {
      "tags": []
     },
     "output_type": "execute_result"
    },
    {
     "data": {
      "image/png": "[encoded data removed]",
      "text/plain": [
       "<Figure size 432x288 with 1 Axes>"
      ]
     },
     "metadata": {
      "tags": []
     },
     "output_type": "display_data"
    }
   ],
   "source": [
    "df.sentimen_vader.value_counts().plot(kind='pie',title=\"Sentiment Analysis with Vader\")"
   ]
  },
  {
   "cell_type": "markdown",
   "metadata": {
    "id": "rkoNaONpkQaG"
   },
   "source": [
    "## **Accuracy**"
   ]
  },
  {
   "cell_type": "code",
   "execution_count": null,
   "metadata": {
    "id": "CaG0xsGxlfJS"
   },
   "outputs": [],
   "source": [
    "#accuracy textblob"
   ]
  },
  {
   "cell_type": "code",
   "execution_count": null,
   "metadata": {
    "id": "k9zHievvkFD4"
   },
   "outputs": [],
   "source": [
    "from sklearn.metrics import accuracy_score,classification_report,confusion_matrix"
   ]
  },
  {
   "cell_type": "code",
   "execution_count": null,
   "metadata": {
    "colab": {
     "base_uri": "https://localhost:8080/"
    },
    "id": "2u9t3gcQkXO4",
    "outputId": "76945e4e-8d23-4b73-944a-0bc7897679b1"
   },
   "outputs": [
    {
     "data": {
      "text/plain": [
       "0.55"
      ]
     },
     "execution_count": 143,
     "metadata": {
      "tags": []
     },
     "output_type": "execute_result"
    }
   ],
   "source": [
    "accuracy_score(df['label'],df['sentimen_textblob'])"
   ]
  },
  {
   "cell_type": "code",
   "execution_count": null,
   "metadata": {
    "colab": {
     "base_uri": "https://localhost:8080/"
    },
    "id": "BeDKLU-WkhJ3",
    "outputId": "725cc8f9-9193-4294-ad23-19a48d730b43"
   },
   "outputs": [
    {
     "name": "stdout",
     "output_type": "stream",
     "text": [
      "              precision    recall  f1-score   support\n",
      "\n",
      "    negative       0.83      0.32      0.47        31\n",
      "     neutral       0.46      0.78      0.58        36\n",
      "    positive       0.63      0.52      0.57        33\n",
      "\n",
      "    accuracy                           0.55       100\n",
      "   macro avg       0.64      0.54      0.54       100\n",
      "weighted avg       0.63      0.55      0.54       100\n",
      "\n"
     ]
    }
   ],
   "source": [
    "print(classification_report(df['label'],df['sentimen_textblob']))"
   ]
  },
  {
   "cell_type": "code",
   "execution_count": null,
   "metadata": {
    "colab": {
     "base_uri": "https://localhost:8080/"
    },
    "id": "eR61en0rlNfo",
    "outputId": "f77bac4f-f555-4715-df0d-e300f234ce8b"
   },
   "outputs": [
    {
     "name": "stdout",
     "output_type": "stream",
     "text": [
      "[[10 17  4]\n",
      " [ 2 28  6]\n",
      " [ 0 16 17]]\n"
     ]
    }
   ],
   "source": [
    "#Confusion Matrix Testing\n",
    "cm_pred = confusion_matrix(df['label'],df['sentimen_textblob'])\n",
    "print(cm_pred)"
   ]
  },
  {
   "cell_type": "code",
   "execution_count": null,
   "metadata": {
    "colab": {
     "base_uri": "https://localhost:8080/",
     "height": 445
    },
    "id": "U8wlbWgulRQP",
    "outputId": "68fd4a2e-051b-4bff-c3f1-0ba200bdd39c"
   },
   "outputs": [
    {
     "data": {
      "text/plain": [
       "<matplotlib.axes._subplots.AxesSubplot at 0x7eff23fd2210>"
      ]
     },
     "execution_count": 146,
     "metadata": {
      "tags": []
     },
     "output_type": "execute_result"
    },
    {
     "data": {
      "image/png": "[encoded data removed]",
      "text/plain": [
       "<Figure size 720x504 with 1 Axes>"
      ]
     },
     "metadata": {
      "needs_background": "light",
      "tags": []
     },
     "output_type": "display_data"
    }
   ],
   "source": [
    "import seaborn as sn\n",
    "import matplotlib.pyplot as plt\n",
    "\n",
    "df_cm_pred = pd.DataFrame(cm_pred, index = [i for i in [\"Negative\", \"Neutral\", \"Positive\"]],\n",
    "                          columns = [i for i in [\"Negative\", \"Neutral\", \"Positive\"]])\n",
    "\n",
    "plt.figure(figsize = (10,7))\n",
    "sn.heatmap(df_cm_pred, annot=True, cbar=False, fmt=\"d\")"
   ]
  },
  {
   "cell_type": "code",
   "execution_count": null,
   "metadata": {
    "id": "KYcDj7n9lV0H"
   },
   "outputs": [],
   "source": [
    "#accuracy vader"
   ]
  },
  {
   "cell_type": "code",
   "execution_count": null,
   "metadata": {
    "colab": {
     "base_uri": "https://localhost:8080/"
    },
    "id": "9Hn7H3VSkaWX",
    "outputId": "358c3cf3-3aa4-4ccf-d626-a3899b4a11f0"
   },
   "outputs": [
    {
     "data": {
      "text/plain": [
       "0.68"
      ]
     },
     "execution_count": 148,
     "metadata": {
      "tags": []
     },
     "output_type": "execute_result"
    }
   ],
   "source": [
    "accuracy_score(df['label'],df['sentimen_vader'])"
   ]
  },
  {
   "cell_type": "code",
   "execution_count": null,
   "metadata": {
    "colab": {
     "base_uri": "https://localhost:8080/"
    },
    "id": "3yd9QCtdli6q",
    "outputId": "0a2e531a-4662-4b49-c324-bbae65f26e47"
   },
   "outputs": [
    {
     "name": "stdout",
     "output_type": "stream",
     "text": [
      "              precision    recall  f1-score   support\n",
      "\n",
      "    negative       0.74      0.65      0.69        31\n",
      "     neutral       0.71      0.81      0.75        36\n",
      "    positive       0.59      0.58      0.58        33\n",
      "\n",
      "    accuracy                           0.68       100\n",
      "   macro avg       0.68      0.68      0.68       100\n",
      "weighted avg       0.68      0.68      0.68       100\n",
      "\n"
     ]
    }
   ],
   "source": [
    "print(classification_report(df['label'],df['sentimen_vader']))"
   ]
  },
  {
   "cell_type": "code",
   "execution_count": null,
   "metadata": {
    "colab": {
     "base_uri": "https://localhost:8080/"
    },
    "id": "_FmKT5SElnKf",
    "outputId": "2ed966a5-a9b9-49f5-eeba-3cf9579cf34e"
   },
   "outputs": [
    {
     "name": "stdout",
     "output_type": "stream",
     "text": [
      "[[20  4  7]\n",
      " [ 1 29  6]\n",
      " [ 6  8 19]]\n"
     ]
    }
   ],
   "source": [
    "#Confusion Matrix Testing\n",
    "cm_pred = confusion_matrix(df['label'],df['sentimen_vader'])\n",
    "print(cm_pred)"
   ]
  },
  {
   "cell_type": "code",
   "execution_count": null,
   "metadata": {
    "colab": {
     "base_uri": "https://localhost:8080/",
     "height": 445
    },
    "id": "M-Fseqp_lpn3",
    "outputId": "8e314a17-9223-4785-dee8-b1f56b1b0f3d"
   },
   "outputs": [
    {
     "data": {
      "text/plain": [
       "<matplotlib.axes._subplots.AxesSubplot at 0x7eff2d3e1790>"
      ]
     },
     "execution_count": 151,
     "metadata": {
      "tags": []
     },
     "output_type": "execute_result"
    },
    {
     "data": {
      "image/png": "[encoded data removed]",
      "text/plain": [
       "<Figure size 720x504 with 1 Axes>"
      ]
     },
     "metadata": {
      "needs_background": "light",
      "tags": []
     },
     "output_type": "display_data"
    }
   ],
   "source": [
    "import seaborn as sn\n",
    "import matplotlib.pyplot as plt\n",
    "\n",
    "df_cm_pred = pd.DataFrame(cm_pred, index = [i for i in [\"Negative\", \"Neutral\", \"Positive\"]],\n",
    "                          columns = [i for i in [\"Negative\", \"Neutral\", \"Positive\"]])\n",
    "\n",
    "plt.figure(figsize = (10,7))\n",
    "sn.heatmap(df_cm_pred, annot=True, cbar=False, fmt=\"d\")"
   ]
  }
 ],
 "metadata": {
  "colab": {
   "collapsed_sections": [],
   "name": "SentimentAnalysis_Twitter.ipynb",
   "provenance": []
  },
  "kernelspec": {
   "display_name": "Python 3",
   "language": "python",
   "name": "python3"
  },
  "language_info": {
   "codemirror_mode": {
    "name": "ipython",
    "version": 3
   },
   "file_extension": ".py",
   "mimetype": "text/x-python",
   "name": "python",
   "nbconvert_exporter": "python",
   "pygments_lexer": "ipython3",
   "version": "3.8.8"
  }
 },
 "nbformat": 4,
 "nbformat_minor": 1
}
